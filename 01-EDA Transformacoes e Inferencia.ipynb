{
 "cells": [
  {
   "cell_type": "markdown",
   "metadata": {},
   "source": [
    "# Atividade 3 - Case\n",
    "  \n",
    "#### Conforme planilha de dados fornecida. \n",
    "Deseja-se prospectar empresas que possuam soluções em **tratamento de água** , \n",
    "principalmente,  elativas à : **solutions on waste and water, Improve water quality and\n",
    "water efficiency use, water contamination, water for human consumption, water resources** ."
   ]
  },
  {
   "cell_type": "markdown",
   "metadata": {},
   "source": [
    "### Declarações Importações de Libs"
   ]
  },
  {
   "cell_type": "code",
   "execution_count": 1,
   "metadata": {},
   "outputs": [
    {
     "name": "stderr",
     "output_type": "stream",
     "text": [
      "/home/pabloernesto/anaconda3/envs/firstenv/lib/python3.10/site-packages/torch/cuda/__init__.py:141: UserWarning: CUDA initialization: The NVIDIA driver on your system is too old (found version 11040). Please update your GPU driver by downloading and installing a new version from the URL: http://www.nvidia.com/Download/index.aspx Alternatively, go to: https://pytorch.org to install a PyTorch version that has been compiled with your version of the CUDA driver. (Triggered internally at ../c10/cuda/CUDAFunctions.cpp:108.)\n",
      "  return torch._C._cuda_getDeviceCount() > 0\n"
     ]
    }
   ],
   "source": [
    "import re\n",
    "from pathlib import Path\n",
    "import pickle\n",
    "import joblib\n",
    "import pandas as pd\n",
    "import spacy\n",
    "import scipy.sparse\n",
    "from sklearn.feature_extraction.text import (TfidfVectorizer,\n",
    "                                             CountVectorizer)\n",
    "from sklearn.model_selection import train_test_split\n",
    "from scipy.sparse import hstack, csr_matrix\n",
    "from gensim import matutils\n",
    "from gensim.models.ldamodel import LdaModel\n",
    "from gensim.models import CoherenceModel\n",
    "from gensim.corpora import Dictionary\n",
    "import pyLDAvis.gensim_models as gensimvis\n",
    "import pyLDAvis\n",
    "import matplotlib.pyplot as plt\n",
    "import seaborn as sns\n",
    "\n",
    "#import missingno as msno"
   ]
  },
  {
   "cell_type": "markdown",
   "metadata": {},
   "source": [
    "### Declarações de Funções"
   ]
  },
  {
   "cell_type": "code",
   "execution_count": 2,
   "metadata": {},
   "outputs": [],
   "source": [
    "def analyze_text_columns(df):\n",
    "    # Lista para armazenar os resultados\n",
    "    results = []\n",
    "    # Regex para identificar strings que contêm apenas caracteres especiais (e espaços)\n",
    "    regex_special_chars_only = re.compile(r'^[\\W_]+$')\n",
    "    # Iterando sobre cada coluna do DataFrame\n",
    "    for column in df.columns:\n",
    "        # Verificando se o tipo da coluna é 'object', indicando texto\n",
    "        if df[column].dtype == 'object':\n",
    "            # Contando valores nulos\n",
    "            null_values = df[column].isnull().sum()\n",
    "            # Contando strings vazias\n",
    "            empty_strings = (df[column] == '').sum()\n",
    "            # Contando strings somente com espaços\n",
    "            only_spaces = df[column].apply(lambda x: x.isspace() if isinstance(x, str) else False).sum()\n",
    "            # Contando registros que contêm apenas caracteres especiais (e possivelmente espaços)\n",
    "            special_chars_only = df[column].apply(lambda x: bool(regex_special_chars_only.match(x)) if isinstance(x, str) else False).sum()\n",
    "            # Adicionando resultado à lista\n",
    "            results.append({\n",
    "                'coluna': column,\n",
    "                'valores_nulos': null_values,\n",
    "                'strings_vazias': empty_strings,\n",
    "                'strings_somente_espacos': only_spaces,\n",
    "                'strings_apenas_caracteres_especiais': special_chars_only\n",
    "            })\n",
    "    return results\n"
   ]
  },
  {
   "cell_type": "markdown",
   "metadata": {},
   "source": [
    "### Declarações de Constantes Globais"
   ]
  },
  {
   "cell_type": "code",
   "execution_count": 3,
   "metadata": {},
   "outputs": [],
   "source": [
    "ROOT_DIR = Path().absolute()\n",
    "SOURCE_SUBDIR = 'Data'\n",
    "DEST_SUBDIR = 'Data'\n",
    "DATA_FILE_NAME = 'data.parquet'\n",
    "FULL_DATA_FILE_NAME = ROOT_DIR / SOURCE_SUBDIR / DATA_FILE_NAME"
   ]
  },
  {
   "cell_type": "markdown",
   "metadata": {},
   "source": [
    "### Carrega de Dados\n"
   ]
  },
  {
   "cell_type": "code",
   "execution_count": 4,
   "metadata": {},
   "outputs": [],
   "source": [
    "# Carregando os dados já Corrigidos\n",
    "df = pd.read_parquet(FULL_DATA_FILE_NAME)"
   ]
  },
  {
   "cell_type": "markdown",
   "metadata": {},
   "source": [
    "### EDA (Análise Exploratória de Dados)"
   ]
  },
  {
   "cell_type": "code",
   "execution_count": 5,
   "metadata": {},
   "outputs": [
    {
     "data": {
      "text/html": [
       "<div>\n",
       "<style scoped>\n",
       "    .dataframe tbody tr th:only-of-type {\n",
       "        vertical-align: middle;\n",
       "    }\n",
       "\n",
       "    .dataframe tbody tr th {\n",
       "        vertical-align: top;\n",
       "    }\n",
       "\n",
       "    .dataframe thead th {\n",
       "        text-align: right;\n",
       "    }\n",
       "</style>\n",
       "<table border=\"1\" class=\"dataframe\">\n",
       "  <thead>\n",
       "    <tr style=\"text-align: right;\">\n",
       "      <th></th>\n",
       "      <th>name</th>\n",
       "      <th>description</th>\n",
       "      <th>employees</th>\n",
       "      <th>total_funding</th>\n",
       "      <th>city</th>\n",
       "      <th>subcountry</th>\n",
       "      <th>lat</th>\n",
       "      <th>lng</th>\n",
       "      <th>clean_description</th>\n",
       "      <th>original_water_term_count</th>\n",
       "      <th>altered_water_term_count</th>\n",
       "      <th>topic</th>\n",
       "      <th>extended_water_term_count</th>\n",
       "    </tr>\n",
       "  </thead>\n",
       "  <tbody>\n",
       "    <tr>\n",
       "      <th>0</th>\n",
       "      <td>fitin</td>\n",
       "      <td>\"fitin is the latest fit tech platform that pr...</td>\n",
       "      <td>1.0</td>\n",
       "      <td>nan</td>\n",
       "      <td>toronto</td>\n",
       "      <td>ontario</td>\n",
       "      <td>43.700109999999995</td>\n",
       "      <td>-79.4163\\n</td>\n",
       "      <td>fitin late fit tech platform provide professio...</td>\n",
       "      <td>0</td>\n",
       "      <td>0</td>\n",
       "      <td>2</td>\n",
       "      <td>0</td>\n",
       "    </tr>\n",
       "    <tr>\n",
       "      <th>1</th>\n",
       "      <td>quinditech</td>\n",
       "      <td>\"our services include independent &amp; collaborat...</td>\n",
       "      <td>10.0</td>\n",
       "      <td>nan</td>\n",
       "      <td>montreal</td>\n",
       "      <td>quebec</td>\n",
       "      <td>45.50884</td>\n",
       "      <td>-73.58781\\n</td>\n",
       "      <td>service include independent collaborative ai p...</td>\n",
       "      <td>0</td>\n",
       "      <td>0</td>\n",
       "      <td>1</td>\n",
       "      <td>0</td>\n",
       "    </tr>\n",
       "  </tbody>\n",
       "</table>\n",
       "</div>"
      ],
      "text/plain": [
       "         name                                        description employees  \\\n",
       "0       fitin  \"fitin is the latest fit tech platform that pr...       1.0   \n",
       "1  quinditech  \"our services include independent & collaborat...      10.0   \n",
       "\n",
       "  total_funding      city subcountry                 lat          lng  \\\n",
       "0           nan   toronto    ontario  43.700109999999995   -79.4163\\n   \n",
       "1           nan  montreal     quebec            45.50884  -73.58781\\n   \n",
       "\n",
       "                                   clean_description  \\\n",
       "0  fitin late fit tech platform provide professio...   \n",
       "1  service include independent collaborative ai p...   \n",
       "\n",
       "   original_water_term_count  altered_water_term_count  topic  \\\n",
       "0                          0                         0      2   \n",
       "1                          0                         0      1   \n",
       "\n",
       "   extended_water_term_count  \n",
       "0                          0  \n",
       "1                          0  "
      ]
     },
     "execution_count": 5,
     "metadata": {},
     "output_type": "execute_result"
    }
   ],
   "source": [
    "df.head(2)"
   ]
  },
  {
   "cell_type": "code",
   "execution_count": 6,
   "metadata": {},
   "outputs": [
    {
     "name": "stdout",
     "output_type": "stream",
     "text": [
      "<class 'pandas.core.frame.DataFrame'>\n",
      "RangeIndex: 19309 entries, 0 to 19308\n",
      "Data columns (total 13 columns):\n",
      " #   Column                     Non-Null Count  Dtype \n",
      "---  ------                     --------------  ----- \n",
      " 0   name                       19309 non-null  object\n",
      " 1   description                19309 non-null  object\n",
      " 2   employees                  19309 non-null  object\n",
      " 3   total_funding              19309 non-null  object\n",
      " 4   city                       19309 non-null  object\n",
      " 5   subcountry                 19309 non-null  object\n",
      " 6   lat                        19309 non-null  object\n",
      " 7   lng                        19309 non-null  object\n",
      " 8   clean_description          19309 non-null  object\n",
      " 9   original_water_term_count  19309 non-null  int64 \n",
      " 10  altered_water_term_count   19309 non-null  int64 \n",
      " 11  topic                      19309 non-null  int64 \n",
      " 12  extended_water_term_count  19309 non-null  int64 \n",
      "dtypes: int64(4), object(9)\n",
      "memory usage: 1.9+ MB\n"
     ]
    }
   ],
   "source": [
    "df.info()"
   ]
  },
  {
   "cell_type": "markdown",
   "metadata": {},
   "source": [
    "#### Análise de valores nulos ou inválidos"
   ]
  },
  {
   "cell_type": "code",
   "execution_count": 7,
   "metadata": {},
   "outputs": [
    {
     "data": {
      "text/plain": [
       "[{'coluna': 'name',\n",
       "  'valores_nulos': 0,\n",
       "  'strings_vazias': 0,\n",
       "  'strings_somente_espacos': 0,\n",
       "  'strings_apenas_caracteres_especiais': 1},\n",
       " {'coluna': 'description',\n",
       "  'valores_nulos': 0,\n",
       "  'strings_vazias': 0,\n",
       "  'strings_somente_espacos': 0,\n",
       "  'strings_apenas_caracteres_especiais': 0},\n",
       " {'coluna': 'employees',\n",
       "  'valores_nulos': 0,\n",
       "  'strings_vazias': 0,\n",
       "  'strings_somente_espacos': 0,\n",
       "  'strings_apenas_caracteres_especiais': 0},\n",
       " {'coluna': 'total_funding',\n",
       "  'valores_nulos': 0,\n",
       "  'strings_vazias': 0,\n",
       "  'strings_somente_espacos': 0,\n",
       "  'strings_apenas_caracteres_especiais': 599},\n",
       " {'coluna': 'city',\n",
       "  'valores_nulos': 0,\n",
       "  'strings_vazias': 0,\n",
       "  'strings_somente_espacos': 0,\n",
       "  'strings_apenas_caracteres_especiais': 0},\n",
       " {'coluna': 'subcountry',\n",
       "  'valores_nulos': 0,\n",
       "  'strings_vazias': 0,\n",
       "  'strings_somente_espacos': 0,\n",
       "  'strings_apenas_caracteres_especiais': 0},\n",
       " {'coluna': 'lat',\n",
       "  'valores_nulos': 0,\n",
       "  'strings_vazias': 0,\n",
       "  'strings_somente_espacos': 0,\n",
       "  'strings_apenas_caracteres_especiais': 0},\n",
       " {'coluna': 'lng',\n",
       "  'valores_nulos': 0,\n",
       "  'strings_vazias': 0,\n",
       "  'strings_somente_espacos': 0,\n",
       "  'strings_apenas_caracteres_especiais': 0},\n",
       " {'coluna': 'clean_description',\n",
       "  'valores_nulos': 0,\n",
       "  'strings_vazias': 0,\n",
       "  'strings_somente_espacos': 0,\n",
       "  'strings_apenas_caracteres_especiais': 0}]"
      ]
     },
     "execution_count": 7,
     "metadata": {},
     "output_type": "execute_result"
    }
   ],
   "source": [
    "analyze_text_columns(df)"
   ]
  },
  {
   "cell_type": "markdown",
   "metadata": {},
   "source": [
    "#### Análise dos Dados Textuais  \n",
    "  \n",
    "Os dados textuais serão preprocessados e analisados utilizando spaCy, Gensim, e SKLearn"
   ]
  },
  {
   "cell_type": "markdown",
   "metadata": {},
   "source": []
  },
  {
   "cell_type": "code",
   "execution_count": 8,
   "metadata": {},
   "outputs": [
    {
     "name": "stdout",
     "output_type": "stream",
     "text": [
      "                                         description  \\\n",
      "0  \"fitin is the latest fit tech platform that pr...   \n",
      "1  \"our services include independent & collaborat...   \n",
      "2  \"chatlanding is a digital chatbot platform whe...   \n",
      "3  ai-powered army of health professionals in you...   \n",
      "4  \"stylify is a mobile platform that connects pe...   \n",
      "\n",
      "                                   clean_description  \n",
      "0  fitin late fit tech platform provide professio...  \n",
      "1  service include independent collaborative ai p...  \n",
      "2  chatlanding digital chatbot platform conversat...  \n",
      "3  ai power army health professional pocket feel ...  \n",
      "4  stylify mobile platform connect people local i...  \n"
     ]
    }
   ],
   "source": [
    "# Carregar o modelo do spaCy\n",
    "nlp = spacy.load(\"en_core_web_trf\")\n",
    "\n",
    "def preprocess_text(text):\n",
    "    # Processar o texto com o spaCy\n",
    "    doc = nlp(text)\n",
    "    # Gerar lista de tokens após remover stopwords e pontuação, e aplicar lematização\n",
    "    tokens = [token.lemma_.lower() for token in doc if not token.is_stop and not token.is_punct]\n",
    "    # Juntar os tokens de volta em uma string\n",
    "    clean_text = ' '.join(tokens)\n",
    "    return clean_text\n",
    "# Aplicar a função de pré-processamento à coluna 'description'\n",
    "df['clean_description'] = df['description'].apply(preprocess_text)\n",
    "\n",
    "# Visualizar as descrições limpas\n",
    "print(df[['description', 'clean_description']].head())"
   ]
  },
  {
   "cell_type": "code",
   "execution_count": 9,
   "metadata": {},
   "outputs": [],
   "source": [
    "# Salvar os dados processados para intercâmbio com outros testes se for o caso\n",
    "df.to_parquet(FULL_DATA_FILE_NAME)"
   ]
  },
  {
   "cell_type": "code",
   "execution_count": 10,
   "metadata": {},
   "outputs": [
    {
     "name": "stdout",
     "output_type": "stream",
     "text": [
      "(19309, 44347)\n"
     ]
    }
   ],
   "source": [
    "# Inicializar o vetorizador TF-IDF\n",
    "vectorizer = TfidfVectorizer()\n",
    "# Aplicar TF-IDF às descrições limpas e converter para uma matriz densa\n",
    "tfidf_matrix = vectorizer.fit_transform(df['clean_description'])\n",
    "# Visualizar o formato da matriz TF-IDF\n",
    "print(tfidf_matrix.shape)"
   ]
  },
  {
   "cell_type": "code",
   "execution_count": 49,
   "metadata": {},
   "outputs": [
    {
     "data": {
      "text/plain": [
       "['/media/pabloernesto/Seagate Expansion Drive/Work/Projects/Desafios/FirstDecision/Prospect-Canadian-Water-Companies/Data/tfidf_matrix.pkl']"
      ]
     },
     "execution_count": 49,
     "metadata": {},
     "output_type": "execute_result"
    }
   ],
   "source": [
    "# Salvar vetorizador do atributo clean_description\n",
    "joblib.dump(tfidf_matrix, ROOT_DIR / SOURCE_SUBDIR / 'tfidf_matrix.pkl')"
   ]
  },
  {
   "cell_type": "markdown",
   "metadata": {},
   "source": [
    "#### Vetorização dos textos, contagem de palavras, e análise dos termos"
   ]
  },
  {
   "cell_type": "code",
   "execution_count": 11,
   "metadata": {},
   "outputs": [
    {
     "name": "stderr",
     "output_type": "stream",
     "text": [
      "/home/pabloernesto/anaconda3/envs/firstenv/lib/python3.10/site-packages/seaborn/_oldcore.py:1498: FutureWarning: is_categorical_dtype is deprecated and will be removed in a future version. Use isinstance(dtype, CategoricalDtype) instead\n",
      "  if pd.api.types.is_categorical_dtype(vector):\n",
      "/home/pabloernesto/anaconda3/envs/firstenv/lib/python3.10/site-packages/seaborn/_oldcore.py:1498: FutureWarning: is_categorical_dtype is deprecated and will be removed in a future version. Use isinstance(dtype, CategoricalDtype) instead\n",
      "  if pd.api.types.is_categorical_dtype(vector):\n",
      "/home/pabloernesto/anaconda3/envs/firstenv/lib/python3.10/site-packages/seaborn/_oldcore.py:1498: FutureWarning: is_categorical_dtype is deprecated and will be removed in a future version. Use isinstance(dtype, CategoricalDtype) instead\n",
      "  if pd.api.types.is_categorical_dtype(vector):\n"
     ]
    },
    {
     "data": {
      "image/png": "[encoded data removed]",
      "text/plain": [
       "<Figure size 1500x1000 with 1 Axes>"
      ]
     },
     "metadata": {},
     "output_type": "display_data"
    }
   ],
   "source": [
    "# Usando CountVectorizer para contar as ocorrências das palavras\n",
    "count_vectorizer = CountVectorizer(stop_words='english')\n",
    "X = count_vectorizer.fit_transform(df['clean_description'])\n",
    "sum_words = X.sum(axis=0)\n",
    "words_freq = [(word, sum_words[0, idx]) for word, idx in count_vectorizer.vocabulary_.items()]\n",
    "words_freq = sorted(words_freq, key=lambda x: x[1], reverse=True)\n",
    "# Aumentando o número de palavras a serem visualizadas\n",
    "num_palavras = 30  # Aumente este número conforme desejado\n",
    "# Convertendo a lista de frequências em um DataFrame\n",
    "words_df = pd.DataFrame(words_freq, columns=['word', 'frequency'])\n",
    "# Selecionando as palavras mais frequentes para visualização\n",
    "top_words_df = words_df.head(num_palavras)\n",
    "# Criando um gráfico de barras horizontal com Seaborn\n",
    "plt.figure(figsize=(15, 10))\n",
    "sns.barplot(x='word', y='frequency', data=top_words_df, palette=sns.color_palette(\"Blues_d\"))\n",
    "plt.title('Palavras Mais Frequentes')\n",
    "plt.xlabel('Frequência')\n",
    "plt.ylabel('Palavra')\n",
    "plt.xticks(rotation=45, ha='right')\n",
    "plt.show()\n"
   ]
  },
  {
   "cell_type": "code",
   "execution_count": 12,
   "metadata": {},
   "outputs": [],
   "source": [
    "# Lista de termos relacionados ao tratamento de água conforme o exercício\n",
    "original_water_terms = [\"waste and water\", \"water quality\", \"water efficiency\", \n",
    "                        \"water contamination\", \"human consumption\", \"water resources\"]\n",
    "\n",
    "altered_water_terms = original_water_terms + ['water']\n",
    "\n",
    "# Função para contar a ocorrência de termos específicos\n",
    "def count_water_terms(text, terms):\n",
    "    count = 0\n",
    "    for term in terms:\n",
    "        # \\b é um delimitador de palavra, que considera apenas correspondências completas do termo\n",
    "        term_pattern = r'\\b' + re.escape(term) + r'\\b'\n",
    "        # Contando as ocorrências do termo usando a expressão regular\n",
    "        count += len(re.findall(term_pattern, text))\n",
    "    return count\n",
    "\n",
    "# Aplicar a função ao DataFrame\n",
    "df['original_water_term_count'] = df['clean_description'].apply(lambda x: count_water_terms(x, original_water_terms))\n",
    "df['altered_water_term_count'] = df['clean_description'].apply(lambda x: count_water_terms(x, altered_water_terms))\n"
   ]
  },
  {
   "cell_type": "code",
   "execution_count": 13,
   "metadata": {},
   "outputs": [
    {
     "name": "stdout",
     "output_type": "stream",
     "text": [
      "                                             description  \\\n",
      "3181   \"jet set is a line of hot tubs that boast stun...   \n",
      "11018  \"4deep inwater imaging is a privately owned, h...   \n",
      "4400   \"imagine housing solutions that offer: 90% red...   \n",
      "4786   \"aquatic informatics provides leading software...   \n",
      "368    \"we are using advanced stem cell and cell cult...   \n",
      "10311  \"the product is a software that works on cell ...   \n",
      "12873  \"founded in 2002, riverdale partners is a bout...   \n",
      "12878  \"rsi research solutions is a analytics solutio...   \n",
      "12877  \"royal laser mfg inc., is a dynamic manufactur...   \n",
      "12876  \"ronen kurzfeld immigration lawyer provides th...   \n",
      "12875  \"robotshop distribution inc. is the leading on...   \n",
      "12874  \"roar solutions provides website design, email...   \n",
      "0      \"fitin is the latest fit tech platform that pr...   \n",
      "12880  \"sales for life has helped to pioneer social s...   \n",
      "12872  \"rightlabs is a software lab. the two most pop...   \n",
      "12871  rigel kent security and advisory services is c...   \n",
      "12870  \"the richard morrison remax team in vancouver,...   \n",
      "12869  \"reza afshar has been a full time active agent...   \n",
      "12868  \"revelo resources corp. has interests in an ou...   \n",
      "12867  \"for over a decade, retina labs has been on th...   \n",
      "\n",
      "       original_water_term_count  \n",
      "3181                           1  \n",
      "11018                          1  \n",
      "4400                           1  \n",
      "4786                           1  \n",
      "368                            1  \n",
      "10311                          1  \n",
      "12873                          0  \n",
      "12878                          0  \n",
      "12877                          0  \n",
      "12876                          0  \n",
      "12875                          0  \n",
      "12874                          0  \n",
      "0                              0  \n",
      "12880                          0  \n",
      "12872                          0  \n",
      "12871                          0  \n",
      "12870                          0  \n",
      "12869                          0  \n",
      "12868                          0  \n",
      "12867                          0  \n"
     ]
    }
   ],
   "source": [
    "# Visualizando as descrições com maior contagem de termos originais\n",
    "top_water_descriptions = df.sort_values(by='original_water_term_count', ascending=False).head(20)\n",
    "print(top_water_descriptions[['description', 'original_water_term_count']])"
   ]
  },
  {
   "cell_type": "code",
   "execution_count": 14,
   "metadata": {},
   "outputs": [
    {
     "name": "stdout",
     "output_type": "stream",
     "text": [
      "                                             description  \\\n",
      "18229  \"greenlife water is the leading provider of wa...   \n",
      "354    \"o waste r/o out door water vending, electroni...   \n",
      "10182  \"o waste r/o out door water vending, electroni...   \n",
      "5231   \"water is our future! without water we do not ...   \n",
      "16544  \"our vision is to create a cost effective, tec...   \n",
      "5008   \"sanzfield allows homeowners and small communi...   \n",
      "13391  \"tablâ€™eau filtered water provides exceptiona...   \n",
      "16914  \"puritas energy is a green tech company which ...   \n",
      "10707  \"demizine takes artifical intelligence (ai) an...   \n",
      "4786   \"aquatic informatics provides leading software...   \n",
      "10547  \"fer-pal infrastructure is proud to offer a ce...   \n",
      "16280  \"homebeaver is an innovative new automation sy...   \n",
      "5897   \"we are fredsense technologies, a calgary base...   \n",
      "4123   \"alert labsâ€™ insight series protects our cus...   \n",
      "10663  \"provider of water data analysis software inte...   \n",
      "18344  \"ontario consumers home services is a 100% can...   \n",
      "43     \"for people on the go who want to have easy ac...   \n",
      "14029  \"aqua terra water management owns and operates...   \n",
      "4753   \"steam puts the smart into water heating. wate...   \n",
      "8677   we have a non-clogging spinning membrane techn...   \n",
      "\n",
      "       altered_water_term_count  \n",
      "18229                        17  \n",
      "354                          11  \n",
      "10182                        11  \n",
      "5231                          9  \n",
      "16544                         8  \n",
      "5008                          6  \n",
      "13391                         6  \n",
      "16914                         6  \n",
      "10707                         6  \n",
      "4786                          5  \n",
      "10547                         5  \n",
      "16280                         5  \n",
      "5897                          5  \n",
      "4123                          4  \n",
      "10663                         4  \n",
      "18344                         4  \n",
      "43                            4  \n",
      "14029                         4  \n",
      "4753                          4  \n",
      "8677                          4  \n"
     ]
    }
   ],
   "source": [
    "# Visualizando as descrições com maior contagem de termos alterado\n",
    "top_water_descriptions = df.sort_values(by='altered_water_term_count', ascending=False).head(20)\n",
    "print(top_water_descriptions[['description', 'altered_water_term_count']])"
   ]
  },
  {
   "cell_type": "markdown",
   "metadata": {},
   "source": [
    "Poucos registros com os termos sugeridos... Porém um número razoável de registros com a palavra \"water\""
   ]
  },
  {
   "cell_type": "markdown",
   "metadata": {},
   "source": [
    "#### Aplicando LDA"
   ]
  },
  {
   "cell_type": "markdown",
   "metadata": {},
   "source": [
    "##### Definições de Funções para Uso no Texto com LDA"
   ]
  },
  {
   "cell_type": "code",
   "execution_count": 15,
   "metadata": {},
   "outputs": [],
   "source": [
    "# Utilizando CountVectorizer para a contagem bruta de palavras\n",
    "count_vectorizer = CountVectorizer(stop_words='english')\n",
    "X = count_vectorizer.fit_transform(df['clean_description'])\n",
    "texts = [doc.split() for doc in df['clean_description']]\n",
    "# Converter a matriz do CountVectorizer para o formato compatível com o Gensim\n",
    "corpus = matutils.Sparse2Corpus(scipy.sparse.csr_matrix(X.T))\n",
    "# Criando um mapeamento de id de palavra para palavra (necessário para o modelo LDA)\n",
    "id2word = {v: k for k, v in count_vectorizer.vocabulary_.items()}\n",
    "dct = Dictionary.from_corpus(corpus, id2word=id2word)\n",
    "\n",
    "\n",
    "# Função para treinar o modelo LDA\n",
    "def train_lda(corpus, dct, num_topics=5, alpha=0.01, eta=0.01):\n",
    "    lda_model = LdaModel(corpus=corpus, \n",
    "                         id2word=dct, \n",
    "                         num_topics=num_topics,\n",
    "                         alpha=alpha, \n",
    "                         eta=eta, \n",
    "                         random_state=42, \n",
    "                         passes=10)\n",
    "    return lda_model\n",
    "\n",
    "# Função para visualização com pyLDAvis\n",
    "def visualize_lda_model(lda_model, corpus, dct):\n",
    "    vis = gensimvis.prepare(lda_model, corpus, dct, sort_topics=False)\n",
    "    return vis\n",
    "\n",
    "# Função fine-tuning para encontrar os melhores parâmtros (número de tópicos, alpha e eta)\n",
    "def find_best_parameters(dct, corpus, texts, start=2, end=10, alphas=[0.01, 0.1, 'symmetric', 'asymmetric'], etas=[0.01, 0.1, 'symmetric']):\n",
    "    results = []\n",
    "    for num_topics in range(start, end):\n",
    "        for alpha in alphas:\n",
    "            for eta in etas:\n",
    "                model = LdaModel(corpus=corpus, \n",
    "                                 num_topics=num_topics, \n",
    "                                 id2word=dct, \n",
    "                                 alpha=alpha, \n",
    "                                 eta=eta, \n",
    "                                 random_state=42, \n",
    "                                 passes=10)\n",
    "                coherencemodel = CoherenceModel(model=model, \n",
    "                                                texts=texts, \n",
    "                                                dictionary=dct, \n",
    "                                                coherence='c_v')\n",
    "                coherence = coherencemodel.get_coherence()\n",
    "                results.append({'num_topics': num_topics, \n",
    "                                'alpha': alpha, \n",
    "                                'eta': eta, \n",
    "                                'coherence': coherence})\n",
    "                # Imprime os resultados parciais para acompanhar o progresso\n",
    "                print(f\"Num Topics: {num_topics}, Alpha: {alpha}, Eta: {eta}, Coherence: {coherence}\")\n",
    "    # Encontrando a configuração com a maior coerência\n",
    "    best_result = max(results, key=lambda x: x['coherence'])\n",
    "    print(\"\\nBest Result:\", best_result)\n",
    "    return results, best_result\n",
    "\n",
    "\n",
    "# Função para encontrar o melhor número de tópicos\n",
    "def find_best_num_topics(dct, corpus, texts, start=2, end=10):\n",
    "    coherence_values = []\n",
    "    for num_topics in range(start, end):\n",
    "        model = LdaModel(corpus=corpus, \n",
    "                         num_topics=num_topics, \n",
    "                         id2word=dct, \n",
    "                         random_state=42, \n",
    "                         passes=10)\n",
    "        coherencemodel = CoherenceModel(model=model, \n",
    "                                        texts=texts, \n",
    "                                        dictionary=dct, \n",
    "                                        coherence='c_v')\n",
    "        coherence_values.append((num_topics, coherencemodel.get_coherence()))\n",
    "    # Plotando a coerência\n",
    "    plt.plot([cv[0] for cv in coherence_values], [cv[1] for cv in coherence_values])\n",
    "    plt.xlabel(\"Número de Tópicos\")\n",
    "    plt.ylabel(\"Coerência\")\n",
    "    plt.show()\n",
    "    return coherence_values\n",
    "\n",
    "\n",
    "def plot_coherence_by_num_topics(results):\n",
    "    # Filtrando os resultados para obter apenas os valores únicos de número de tópicos\n",
    "    unique_num_topics = sorted(set(result['num_topics'] for result in results))\n",
    "    # Calculando a média da coerência para cada número de tópicos\n",
    "    avg_coherence_by_num_topics = []\n",
    "    for num in unique_num_topics:\n",
    "        coherences = [result['coherence'] for result in results if result['num_topics'] == num]\n",
    "        avg_coherence = sum(coherences) / len(coherences)\n",
    "        avg_coherence_by_num_topics.append((num, avg_coherence))\n",
    "    # Desempacotando os valores para plotagem\n",
    "    num_topics, coherences = zip(*avg_coherence_by_num_topics)\n",
    "    # Criando o gráfico\n",
    "    plt.figure(figsize=(10, 5))\n",
    "    plt.plot(num_topics, coherences, marker='o')\n",
    "    plt.title('Coerência Média por Número de Tópicos')\n",
    "    plt.xlabel('Número de Tópicos')\n",
    "    plt.ylabel('Coerência Média')\n",
    "    plt.grid(True)\n",
    "    plt.show()\n",
    "\n",
    "\n",
    "# Listagem de número de tópicos e ceherence\n",
    "def print_coherence_list(results):\n",
    "    coherence_list = [(result['num_topics'], result['coherence']) for result in results]\n",
    "    coherence_list = sorted(coherence_list, key=lambda x: x[0])  # Ordenar pela quantidade de tópicos\n",
    "\n",
    "    print(\"Listagem de Coerência por Número de Tópicos:\")\n",
    "    for num_topics, coherence in coherence_list:\n",
    "        print(f\"Número de Tópicos: {num_topics}, Coerência: {coherence:.4f}\")\n"
   ]
  },
  {
   "cell_type": "markdown",
   "metadata": {},
   "source": [
    "##### Buca dos Melhores Parâmetros (Fin-Tunig)"
   ]
  },
  {
   "cell_type": "code",
   "execution_count": 16,
   "metadata": {},
   "outputs": [
    {
     "name": "stdout",
     "output_type": "stream",
     "text": [
      "Num Topics: 2, Alpha: 0.01, Eta: 0.01, Coherence: 0.4539684123169325\n",
      "Num Topics: 2, Alpha: 0.01, Eta: 0.1, Coherence: 0.4539684123169325\n",
      "Num Topics: 2, Alpha: 0.01, Eta: symmetric, Coherence: 0.44203482172756714\n",
      "Num Topics: 2, Alpha: 0.1, Eta: 0.01, Coherence: 0.4539684123169325\n",
      "Num Topics: 2, Alpha: 0.1, Eta: 0.1, Coherence: 0.4539684123169325\n",
      "Num Topics: 2, Alpha: 0.1, Eta: symmetric, Coherence: 0.4538070386117823\n",
      "Num Topics: 2, Alpha: symmetric, Eta: 0.01, Coherence: 0.4539684123169325\n",
      "Num Topics: 2, Alpha: symmetric, Eta: 0.1, Coherence: 0.4539684123169325\n",
      "Num Topics: 2, Alpha: symmetric, Eta: symmetric, Coherence: 0.4548054392185894\n",
      "Num Topics: 2, Alpha: asymmetric, Eta: 0.01, Coherence: 0.466143445015732\n",
      "Num Topics: 2, Alpha: asymmetric, Eta: 0.1, Coherence: 0.46154515140490504\n",
      "Num Topics: 2, Alpha: asymmetric, Eta: symmetric, Coherence: 0.43218746043135137\n",
      "Num Topics: 3, Alpha: 0.01, Eta: 0.01, Coherence: 0.5473305595504367\n",
      "Num Topics: 3, Alpha: 0.01, Eta: 0.1, Coherence: 0.5163879474351706\n",
      "Num Topics: 3, Alpha: 0.01, Eta: symmetric, Coherence: 0.5014417796493897\n",
      "Num Topics: 3, Alpha: 0.1, Eta: 0.01, Coherence: 0.547345268207668\n",
      "Num Topics: 3, Alpha: 0.1, Eta: 0.1, Coherence: 0.5172103778422775\n",
      "Num Topics: 3, Alpha: 0.1, Eta: symmetric, Coherence: 0.5062063093151677\n",
      "Num Topics: 3, Alpha: symmetric, Eta: 0.01, Coherence: 0.5143620681933206\n",
      "Num Topics: 3, Alpha: symmetric, Eta: 0.1, Coherence: 0.5106583745810965\n",
      "Num Topics: 3, Alpha: symmetric, Eta: symmetric, Coherence: 0.5041923434756189\n",
      "Num Topics: 3, Alpha: asymmetric, Eta: 0.01, Coherence: 0.516906129293174\n",
      "Num Topics: 3, Alpha: asymmetric, Eta: 0.1, Coherence: 0.5350868893522092\n",
      "Num Topics: 3, Alpha: asymmetric, Eta: symmetric, Coherence: 0.5209637090173831\n",
      "Num Topics: 4, Alpha: 0.01, Eta: 0.01, Coherence: 0.5244111248077856\n",
      "Num Topics: 4, Alpha: 0.01, Eta: 0.1, Coherence: 0.5175791129309886\n",
      "Num Topics: 4, Alpha: 0.01, Eta: symmetric, Coherence: 0.5281575749146119\n",
      "Num Topics: 4, Alpha: 0.1, Eta: 0.01, Coherence: 0.48739795020239174\n",
      "Num Topics: 4, Alpha: 0.1, Eta: 0.1, Coherence: 0.506986463868179\n",
      "Num Topics: 4, Alpha: 0.1, Eta: symmetric, Coherence: 0.5205166672495113\n",
      "Num Topics: 4, Alpha: symmetric, Eta: 0.01, Coherence: 0.4910623164436394\n",
      "Num Topics: 4, Alpha: symmetric, Eta: 0.1, Coherence: 0.5096693471582907\n",
      "Num Topics: 4, Alpha: symmetric, Eta: symmetric, Coherence: 0.5270239951417175\n",
      "Num Topics: 4, Alpha: asymmetric, Eta: 0.01, Coherence: 0.5291416255813852\n",
      "Num Topics: 4, Alpha: asymmetric, Eta: 0.1, Coherence: 0.5483306523616582\n",
      "Num Topics: 4, Alpha: asymmetric, Eta: symmetric, Coherence: 0.5159995001257891\n",
      "Num Topics: 5, Alpha: 0.01, Eta: 0.01, Coherence: 0.4919310542254406\n",
      "Num Topics: 5, Alpha: 0.01, Eta: 0.1, Coherence: 0.5116966399512373\n",
      "Num Topics: 5, Alpha: 0.01, Eta: symmetric, Coherence: 0.5265286759308265\n",
      "Num Topics: 5, Alpha: 0.1, Eta: 0.01, Coherence: 0.4941628569791338\n",
      "Num Topics: 5, Alpha: 0.1, Eta: 0.1, Coherence: 0.5158700226880771\n",
      "Num Topics: 5, Alpha: 0.1, Eta: symmetric, Coherence: 0.5482465923541634\n",
      "Num Topics: 5, Alpha: symmetric, Eta: 0.01, Coherence: 0.5015111159649062\n",
      "Num Topics: 5, Alpha: symmetric, Eta: 0.1, Coherence: 0.5293698043917988\n",
      "Num Topics: 5, Alpha: symmetric, Eta: symmetric, Coherence: 0.5376805956605895\n",
      "Num Topics: 5, Alpha: asymmetric, Eta: 0.01, Coherence: 0.502750812015214\n",
      "Num Topics: 5, Alpha: asymmetric, Eta: 0.1, Coherence: 0.5179246627439464\n",
      "Num Topics: 5, Alpha: asymmetric, Eta: symmetric, Coherence: 0.5384167092478663\n",
      "Num Topics: 6, Alpha: 0.01, Eta: 0.01, Coherence: 0.49853416930012434\n",
      "Num Topics: 6, Alpha: 0.01, Eta: 0.1, Coherence: 0.5163183825495351\n",
      "Num Topics: 6, Alpha: 0.01, Eta: symmetric, Coherence: 0.5228154869468981\n",
      "Num Topics: 6, Alpha: 0.1, Eta: 0.01, Coherence: 0.4989212882650107\n",
      "Num Topics: 6, Alpha: 0.1, Eta: 0.1, Coherence: 0.5080198378057185\n",
      "Num Topics: 6, Alpha: 0.1, Eta: symmetric, Coherence: 0.5202737138150239\n",
      "Num Topics: 6, Alpha: symmetric, Eta: 0.01, Coherence: 0.4903022222541414\n",
      "Num Topics: 6, Alpha: symmetric, Eta: 0.1, Coherence: 0.5100254645164842\n",
      "Num Topics: 6, Alpha: symmetric, Eta: symmetric, Coherence: 0.5292852851966059\n",
      "Num Topics: 6, Alpha: asymmetric, Eta: 0.01, Coherence: 0.5230772859716456\n",
      "Num Topics: 6, Alpha: asymmetric, Eta: 0.1, Coherence: 0.526296810087686\n",
      "Num Topics: 6, Alpha: asymmetric, Eta: symmetric, Coherence: 0.5152306421986574\n",
      "Num Topics: 7, Alpha: 0.01, Eta: 0.01, Coherence: 0.5120408837753971\n",
      "Num Topics: 7, Alpha: 0.01, Eta: 0.1, Coherence: 0.5023228229304284\n",
      "Num Topics: 7, Alpha: 0.01, Eta: symmetric, Coherence: 0.5094953292129765\n",
      "Num Topics: 7, Alpha: 0.1, Eta: 0.01, Coherence: 0.5192792735092315\n",
      "Num Topics: 7, Alpha: 0.1, Eta: 0.1, Coherence: 0.4807869520885724\n",
      "Num Topics: 7, Alpha: 0.1, Eta: symmetric, Coherence: 0.49350488807835013\n",
      "Num Topics: 7, Alpha: symmetric, Eta: 0.01, Coherence: 0.4772128271939757\n",
      "Num Topics: 7, Alpha: symmetric, Eta: 0.1, Coherence: 0.5042146528379254\n",
      "Num Topics: 7, Alpha: symmetric, Eta: symmetric, Coherence: 0.5117912373465048\n",
      "Num Topics: 7, Alpha: asymmetric, Eta: 0.01, Coherence: 0.51892180378565\n",
      "Num Topics: 7, Alpha: asymmetric, Eta: 0.1, Coherence: 0.5121638084308111\n",
      "Num Topics: 7, Alpha: asymmetric, Eta: symmetric, Coherence: 0.5000279366337818\n",
      "Num Topics: 8, Alpha: 0.01, Eta: 0.01, Coherence: 0.5262634134011352\n",
      "Num Topics: 8, Alpha: 0.01, Eta: 0.1, Coherence: 0.507333657563503\n",
      "Num Topics: 8, Alpha: 0.01, Eta: symmetric, Coherence: 0.5155004870522704\n",
      "Num Topics: 8, Alpha: 0.1, Eta: 0.01, Coherence: 0.49240699340669863\n",
      "Num Topics: 8, Alpha: 0.1, Eta: 0.1, Coherence: 0.5021180216308706\n",
      "Num Topics: 8, Alpha: 0.1, Eta: symmetric, Coherence: 0.49759997056795185\n",
      "Num Topics: 8, Alpha: symmetric, Eta: 0.01, Coherence: 0.5102814746060611\n",
      "Num Topics: 8, Alpha: symmetric, Eta: 0.1, Coherence: 0.512130328160518\n",
      "Num Topics: 8, Alpha: symmetric, Eta: symmetric, Coherence: 0.5215080170291946\n",
      "Num Topics: 8, Alpha: asymmetric, Eta: 0.01, Coherence: 0.515979156085063\n"
     ]
    },
    {
     "name": "stderr",
     "output_type": "stream",
     "text": [
      "/home/pabloernesto/anaconda3/envs/firstenv/lib/python3.10/site-packages/gensim/topic_coherence/direct_confirmation_measure.py:204: RuntimeWarning: divide by zero encountered in scalar divide\n",
      "  m_lr_i = np.log(numerator / denominator)\n",
      "/home/pabloernesto/anaconda3/envs/firstenv/lib/python3.10/site-packages/gensim/topic_coherence/indirect_confirmation_measure.py:323: RuntimeWarning: invalid value encountered in scalar divide\n",
      "  return cv1.T.dot(cv2)[0, 0] / (_magnitude(cv1) * _magnitude(cv2))\n"
     ]
    },
    {
     "name": "stdout",
     "output_type": "stream",
     "text": [
      "Num Topics: 8, Alpha: asymmetric, Eta: 0.1, Coherence: nan\n",
      "Num Topics: 8, Alpha: asymmetric, Eta: symmetric, Coherence: nan\n",
      "Num Topics: 9, Alpha: 0.01, Eta: 0.01, Coherence: 0.4801383978434432\n",
      "Num Topics: 9, Alpha: 0.01, Eta: 0.1, Coherence: 0.5221738695530349\n",
      "Num Topics: 9, Alpha: 0.01, Eta: symmetric, Coherence: 0.48362401930809185\n",
      "Num Topics: 9, Alpha: 0.1, Eta: 0.01, Coherence: 0.5143799380419818\n",
      "Num Topics: 9, Alpha: 0.1, Eta: 0.1, Coherence: 0.5015780435802357\n",
      "Num Topics: 9, Alpha: 0.1, Eta: symmetric, Coherence: 0.5029078891353556\n",
      "Num Topics: 9, Alpha: symmetric, Eta: 0.01, Coherence: 0.5147797780000365\n",
      "Num Topics: 9, Alpha: symmetric, Eta: 0.1, Coherence: 0.5044454162117388\n",
      "Num Topics: 9, Alpha: symmetric, Eta: symmetric, Coherence: 0.5006663419259492\n",
      "Num Topics: 9, Alpha: asymmetric, Eta: 0.01, Coherence: 0.5368619225739149\n",
      "Num Topics: 9, Alpha: asymmetric, Eta: 0.1, Coherence: nan\n",
      "Num Topics: 9, Alpha: asymmetric, Eta: symmetric, Coherence: 0.506526631621646\n",
      "\n",
      "Best Result: {'num_topics': 4, 'alpha': 'asymmetric', 'eta': 0.1, 'coherence': 0.5483306523616582}\n"
     ]
    },
    {
     "data": {
      "image/png": "[encoded data removed]",
      "text/plain": [
       "<Figure size 1000x500 with 1 Axes>"
      ]
     },
     "metadata": {},
     "output_type": "display_data"
    }
   ],
   "source": [
    "results, best_result = find_best_parameters(dct,\n",
    "                                            corpus, \n",
    "                                            texts, \n",
    "                                            start=2, \n",
    "                                            end=10, \n",
    "                                            alphas=[0.01, 0.1, 'symmetric', 'asymmetric'], \n",
    "                                            etas=[0.01, 0.1, 'symmetric'])\n",
    "\n",
    "plot_coherence_by_num_topics(results)"
   ]
  },
  {
   "cell_type": "code",
   "execution_count": 17,
   "metadata": {},
   "outputs": [
    {
     "name": "stdout",
     "output_type": "stream",
     "text": [
      "{'num_topics': 4, 'alpha': 'asymmetric', 'eta': 0.1, 'coherence': 0.5483306523616582}\n"
     ]
    }
   ],
   "source": [
    "# Melhores parâmetros para o LDA\n",
    "print(best_result)"
   ]
  },
  {
   "cell_type": "code",
   "execution_count": 18,
   "metadata": {},
   "outputs": [
    {
     "data": {
      "text/html": [
       "\n",
       "<link rel=\"stylesheet\" type=\"text/css\" href=\"https://cdn.jsdelivr.net/gh/bmabey/pyLDAvis@3.4.0/pyLDAvis/js/ldavis.v1.0.0.css\">\n",
       "\n",
       "\n",
       "<div id=\"ldavis_el14071911399627733220161289822440\" style=\"background-color:white;\"></div>\n",
       "<script type=\"text/javascript\">\n",
       "\n",
       "var ldavis_el14071911399627733220161289822440_data = {\"mdsDat\": {\"x\": [-0.04211015172429089, -0.19555203427944795, -0.09510211307768414, 0.3327642990814228], \"y\": [0.05192098020458222, -0.18953905837636173, 0.1885465395694238, -0.0509284613976442], \"topics\": [1, 2, 3, 4], \"cluster\": [1, 1, 1, 1], \"Freq\": [44.19821647857851, 30.060437881511863, 12.813763226670805, 12.92758241323882]}, \"tinfo\": {\"Term\": [\"company\", \"exploration\", \"marketing\", \"property\", \"design\", \"gold\", \"canada\", \"web\", \"project\", \"mobile\", \"development\", \"online\", \"business\", \"solution\", \"digital\", \"mining\", \"technology\", \"service\", \"medium\", \"collapse\", \"content\", \"user\", \"mineral\", \"social\", \"software\", \"website\", \"locate\", \"app\", \"focus\", \"client\", \"financial\", \"security\", \"copper\", \"patient\", \"employee\", \"risk\", \"investor\", \"intelligence\", \"fund\", \"safety\", \"healthcare\", \"lithium\", \"machine\", \"government\", \"impact\", \"ai\", \"shareholder\", \"law\", \"monitoring\", \"invest\", \"mexico\", \"efficiency\", \"blockchain\", \"agent\", \"critical\", \"total\", \"evaluation\", \"legal\", \"productivity\", \"disease\", \"investment\", \"datum\", \"reduce\", \"data\", \"decision\", \"cost\", \"wireless\", \"health\", \"research\", \"insight\", \"insurance\", \"leader\", \"practice\", \"medical\", \"technology\", \"industry\", \"power\", \"collapse\", \"improve\", \"management\", \"global\", \"solution\", \"market\", \"innovation\", \"organization\", \"process\", \"support\", \"provider\", \"provide\", \"team\", \"business\", \"software\", \"develop\", \"product\", \"client\", \"service\", \"lead\", \"company\", \"read\", \"build\", \"customer\", \"base\", \"help\", \"work\", \"platform\", \"focus\", \"need\", \"offer\", \"high\", \"time\", \"friend\", \"let\", \"buy\", \"book\", \"card\", \"restaurant\", \"travel\", \"send\", \"photo\", \"fun\", \"smartphone\", \"item\", \"reward\", \"twitter\", \"fitness\", \"fan\", \"fashion\", \"shopping\", \"lifestyle\", \"minute\", \"text\", \"mortgage\", \"download\", \"coffee\", \"gift\", \"you\\u00e2\", \"watch\", \"request\", \"picture\", \"kid\", \"store\", \"event\", \"news\", \"buyer\", \"feel\", \"interact\", \"want\", \"sport\", \"shop\", \"free\", \"phone\", \"retailer\", \"user\", \"like\", \"deal\", \"share\", \"easy\", \"people\", \"app\", \"online\", \"local\", \"allow\", \"home\", \"connect\", \"money\", \"way\", \"social\", \"good\", \"time\", \"feature\", \"sell\", \"live\", \"make\", \"game\", \"platform\", \"create\", \"mobile\", \"new\", \"community\", \"help\", \"customer\", \"offer\", \"experience\", \"product\", \"use\", \"need\", \"world\", \"marketing\", \"seo\", \"3d\", \"studio\", \"film\", \"student\", \"hosting\", \"graphic\", \"teacher\", \"saskatchewan\", \"branding\", \"printing\", \"english\", \"wordpress\", \"vr\", \"clients\", \"writing\", \"french\", \"animation\", \"studios\", \"theme\", \"cad\", \"printer\", \"voip\", \"tutor\", \"pr\", \"bookkeeping\", \"mount\", \"ui\", \"instructor\", \"windows\", \"agency\", \"campaign\", \"creative\", \"course\", \"web\", \"advertising\", \"medium\", \"media\", \"publisher\", \"content\", \"digital\", \"custom\", \"designer\", \"design\", \"print\", \"educational\", \"developer\", \"interactive\", \"engine\", \"website\", \"mobile\", \"video\", \"com\", \"brand\", \"development\", \"business\", \"service\", \"specialize\", \"social\", \"application\", \"online\", \"search\", \"company\", \"software\", \"base\", \"read\", \"offer\", \"create\", \"solution\", \"provide\", \"client\", \"platform\", \"build\", \"exploration\", \"property\", \"gold\", \"mining\", \"mineral\", \"corp\", \"oil\", \"metal\", \"gas\", \"deposit\", \"resources\", \"approximately\", \"british\", \"columbia\", \"silver\", \"tsx\", \"alberta\", \"lake\", \"precious\", \"west\", \"states\", \"south\", \"subsidiary\", \"western\", \"kilometer\", \"repair\", \"junior\", \"zinc\", \"hectare\", \"northern\", \"water\", \"locate\", \"acquisition\", \"project\", \"acquire\", \"canada\", \"company\", \"hold\", \"production\", \"ontario\", \"development\", \"resource\", \"canadian\", \"focus\", \"area\", \"base\", \"north\", \"include\", \"engage\", \"operate\", \"toronto\", \"service\", \"read\"], \"Freq\": [8660.0, 2235.0, 2184.0, 2108.0, 3218.0, 1986.0, 3255.0, 2156.0, 2717.0, 3122.0, 3053.0, 3329.0, 5699.0, 3877.0, 1713.0, 1178.0, 4267.0, 6610.0, 1485.0, 5547.0, 1526.0, 3269.0, 1130.0, 2511.0, 2596.0, 1715.0, 1133.0, 2387.0, 2620.0, 2213.0, 851.3600316804451, 778.202143137664, 683.345610559537, 673.5096025427428, 612.9329305480621, 511.17300831932045, 491.20455139291295, 452.47795545850295, 448.26074633914334, 434.69792504638997, 396.1716665666991, 396.1606496328053, 445.38772511351135, 387.64764935269557, 383.0009424230461, 322.9199918006962, 322.87096441222394, 308.6120029866355, 293.6323267546369, 282.86396497257135, 260.97766718499656, 284.93037182973524, 251.21576939140712, 251.1575137963153, 250.1052746507747, 249.9153240101141, 240.7473243244777, 236.6723393498695, 233.41303433877857, 232.58672364384714, 880.8838697060481, 1849.9168699348197, 592.1181617035654, 691.5686337567506, 433.8748259299737, 1402.953276092669, 263.65524962946733, 1121.8284418654075, 827.3718167340228, 454.852653526678, 452.97827060769714, 671.7934000288578, 400.14471441311974, 705.9211374882053, 3853.2788960357643, 2152.683840676717, 975.0132846471809, 4763.03632009743, 920.7446000381358, 2359.037273054013, 1021.4966151007142, 3166.0661384150226, 1963.600407521009, 627.2766532547158, 1048.66998418213, 1263.077567640791, 1162.3689698675064, 992.4118283151614, 4086.4144540561206, 1954.199019578972, 3489.418920910309, 1871.2381738210781, 1841.4469210679706, 2783.555591835377, 1588.9366822704822, 3499.9541993326684, 1334.9798509428138, 3908.3925103645506, 2143.325544800833, 1601.9140612569427, 1844.7451715501695, 1982.8677646616845, 1873.7596288315292, 1496.1527967685327, 1633.9316290202455, 1377.2814622522249, 1350.4311210553865, 1380.86233164376, 1206.795507872975, 1236.1378713860238, 676.0668053858515, 647.5729037379523, 646.4343664472021, 502.9758475979116, 498.9768936556176, 498.78301771500026, 518.0202003225177, 475.19557088260416, 453.1095842725817, 421.5074188636559, 392.8792805227024, 392.5865035211056, 377.73052455340564, 303.1508574747213, 338.33798588771185, 292.3147075684206, 293.59295608677195, 278.6293112729847, 278.8755270817693, 275.4301094103194, 263.5166927615297, 255.40326666817123, 235.1090012081607, 229.97585089392382, 226.90603329596456, 227.32544347041184, 215.04353258337667, 209.6238401541102, 208.93221013178103, 208.46647378241872, 952.4733450361738, 1244.0559027318695, 436.1570244684398, 309.36807622588407, 262.490521674811, 241.05232733699665, 1161.5237000473412, 632.2363546442014, 505.36694733330614, 1362.6269110397186, 803.840008581929, 427.0368923000845, 2812.551302946155, 1162.896093970399, 592.222926343239, 1396.3627624636813, 1333.6599874876435, 1977.2454946340117, 1889.61799334128, 2445.780492414655, 936.4993168085276, 1842.7952394340039, 1200.7043355172434, 1270.7946354250641, 638.033444342643, 1238.3836213614295, 1597.3573675383823, 1402.9201488841843, 1772.1838080759896, 839.8023366165808, 799.6370591048554, 658.3640961029747, 911.1962393264873, 962.0206014958377, 1867.0576023688627, 1683.7185371026096, 1506.600533821368, 1320.5883473430667, 1018.0368131553992, 1513.9802063904676, 1408.298353742302, 1288.5190769511419, 1119.4706481885555, 1298.6468552660826, 1026.7647695762194, 1034.4737989913876, 976.3091366630116, 2183.9976753409364, 397.5398984663327, 350.16635528057117, 311.81427205362104, 223.67392325849966, 735.0766529550721, 187.20603111632545, 173.43882997992972, 166.55805803197072, 153.62875313991395, 141.9732584428399, 120.89316647332852, 115.09041705615243, 88.29129104261759, 85.80671941918455, 82.30900084873863, 81.07681262197896, 79.69260962921584, 70.49304677565637, 66.97844487815975, 65.58506654849683, 62.988428526975405, 62.757159357654366, 71.46377620500398, 60.33711563342034, 58.333586239358596, 56.77198750690707, 53.27065655269777, 51.628353749056245, 51.56310690887985, 119.84660055678526, 661.8778541321802, 372.57942275172815, 474.58354649256705, 202.35058173436389, 1728.9686634216396, 430.6727059158779, 1163.1731458447366, 495.20904383194045, 237.44616876765468, 1107.3629599345484, 1226.486341225845, 549.7205159031264, 282.050327736724, 1862.8681911166984, 239.87008416584064, 154.69853731425118, 479.38371503791416, 342.53388929005257, 379.10500249910984, 950.1315581992444, 1427.9798038841634, 738.3200432082914, 769.4935125620482, 763.3548880633427, 1038.5126461485281, 1500.6169801586295, 1630.2130450222853, 498.50627215703946, 844.4021651756609, 729.650793612889, 876.6996339249997, 533.8812325825884, 1193.3685726072365, 725.2393717757026, 863.196649490749, 792.2368450179275, 763.5214466517409, 716.3192707087837, 711.0660043448418, 785.7908437865991, 621.2251126339524, 639.3646299327323, 592.4164169435542, 2234.7861133176984, 2107.823729704362, 1985.6708587842093, 1178.512964177881, 1130.1490144044546, 618.3268281740318, 563.9164096491584, 514.2387380590942, 495.13224496149275, 472.3578325613506, 471.78537118105834, 416.6313140984523, 414.27278843162503, 402.2885786385473, 375.75254895321444, 358.147149856337, 321.9513337840633, 280.88510132988375, 253.87073630875835, 234.86253096808397, 233.56474256473942, 224.40495619942723, 216.85527691922172, 198.55161382067675, 198.5024223797855, 194.9474043900953, 188.5514588102134, 180.24887818947272, 178.9973799189272, 176.79588160728727, 370.4993977152757, 1072.8561700711853, 535.3424250599735, 1739.459766088594, 415.9044175152846, 1801.1109459254942, 3558.2490956563342, 416.8013973400546, 611.658195305303, 542.2004990783952, 1209.7344637448482, 646.2386486442047, 696.756510520316, 905.0697181045135, 524.4690833292177, 890.8824166584665, 481.0094381674627, 643.9973167993315, 503.0315556480233, 474.2304129039468, 479.19906948035197, 520.1779535359849, 496.6841594162582], \"Total\": [8660.0, 2235.0, 2184.0, 2108.0, 3218.0, 1986.0, 3255.0, 2156.0, 2717.0, 3122.0, 3053.0, 3329.0, 5699.0, 3877.0, 1713.0, 1178.0, 4267.0, 6610.0, 1485.0, 5547.0, 1526.0, 3269.0, 1130.0, 2511.0, 2596.0, 1715.0, 1133.0, 2387.0, 2620.0, 2213.0, 851.6786931667257, 778.5208213324394, 683.6649805862677, 673.8282626430605, 613.2516006904834, 511.4916796218428, 491.5232198656358, 452.7966049061705, 448.58841115941084, 435.01658553925296, 396.4903087107966, 396.479614408344, 445.74668958880727, 387.9663298492145, 383.31962369989895, 323.2386371149352, 323.18985459586486, 308.9316472818745, 293.95098984059183, 283.1826336705413, 261.29695081908017, 285.2884006605607, 251.5344483381114, 251.4762115388119, 250.4239360431087, 250.23434744590324, 241.06671976769752, 236.99099963762012, 233.73194702343042, 232.905359249398, 884.5930724995922, 1873.1354833042076, 593.3761954736722, 697.3398018377524, 435.72471824071215, 1428.409010176735, 264.09977183658486, 1146.1485747050206, 840.2793874148541, 458.8885070600973, 457.0721637563687, 684.1983023693202, 403.5139221628228, 728.4891373259193, 4267.946345479928, 2357.506575433085, 1026.7999449821498, 5547.691718286545, 967.225190732804, 2689.3150842781733, 1113.8085667525536, 3877.4320496821188, 2297.286549728157, 654.6735268108206, 1163.0915451022265, 1472.472329606558, 1343.883836256868, 1127.1930824537558, 5976.375565631496, 2519.9580647939797, 5699.285093617616, 2596.691669558625, 2638.391197308297, 4585.106040391803, 2213.4003571021744, 6610.07390485317, 1792.1317137058911, 8660.14909764236, 3935.4378391217624, 2642.7056210434694, 3524.187656133461, 4410.33664410169, 3974.5428838783464, 2587.107413257761, 4140.429080116897, 2620.6401950732875, 2503.5958562303986, 3645.3038394642654, 2051.4997605429025, 3008.88608090183, 676.3557727285937, 647.8626684442686, 646.7559530582987, 503.26485990201644, 499.2659053279186, 499.07199185328494, 518.3214444408767, 475.48455467277967, 453.39873838682956, 421.7964220833952, 393.1683054223788, 392.8754851134639, 378.03451562056205, 303.4398495073589, 338.6722152506283, 292.60370940187875, 293.88330905331736, 278.918293158003, 279.1667098630172, 275.7214903681798, 263.8058207346616, 255.69306729969486, 235.39800363941225, 230.26489355494937, 227.19500004982703, 227.62500491083784, 215.33251472861878, 209.91283095218512, 209.2213214317274, 208.75545597211797, 954.5334491749054, 1251.068383982523, 437.17037168895536, 309.9127744746882, 263.0230767113696, 241.4833244106685, 1186.7964412285808, 641.7715872637137, 514.2935152056762, 1433.4717827501013, 842.0937400000768, 438.94795111825533, 3269.3738984241973, 1287.6074518270796, 631.4850287975769, 1608.8373638327196, 1580.2086482819082, 2503.6211327783753, 2387.789145010573, 3329.1456720035158, 1117.356596928785, 2572.5976815998147, 1533.3639779413716, 1654.83496979823, 711.0200096954208, 1725.7086432127198, 2511.4584063037105, 2114.776658720512, 3008.88608090183, 1070.1103577121164, 1010.9546428165036, 757.0394747291813, 1257.0098706669924, 1387.0291383802692, 4140.429080116897, 3500.36905875174, 3122.602805492432, 2892.140436837404, 1683.104430571765, 3974.5428838783464, 3524.187656133461, 3645.3038394642654, 2668.7653406055297, 4585.106040391803, 2234.834544072036, 2503.5958562303986, 2431.889293297821, 2184.39074906241, 397.8632267815787, 350.4897001524002, 312.1379361316843, 223.99728378042053, 736.1906667634692, 187.52937317429965, 173.7621722788006, 166.88140083527193, 153.95294137806482, 142.29663772839413, 121.21653308829762, 115.41376158911747, 88.61461953220274, 86.13143225038995, 82.63244028500917, 81.4001527061544, 80.01608146296392, 70.81637327261227, 67.30178528854954, 65.90844044123877, 63.311818877546976, 63.080530876490286, 71.84417037456254, 60.66045197639256, 58.65696139280803, 57.09538257074408, 53.594162857627744, 51.95169733376102, 51.886464880975694, 122.36866681375156, 713.7871118563324, 397.0899761164705, 519.0614434471069, 214.08904468983695, 2156.7793792608854, 502.8097256876369, 1485.5029887778137, 607.720395008395, 271.10989322871103, 1526.499413270394, 1713.370350856162, 738.2133460635004, 347.42094826430406, 3218.0315525372043, 290.48997534755154, 173.61360062683246, 681.265933316466, 458.40143168654583, 521.8980092089836, 1715.44620201255, 3122.602805492432, 1489.7766923727597, 1622.6290435860997, 1715.349394274524, 3053.2905934613145, 5699.285093617616, 6610.07390485317, 971.383385928376, 2511.4584063037105, 2166.801852262241, 3329.1456720035158, 1193.4635795233073, 8660.14909764236, 2596.691669558625, 4410.33664410169, 3935.4378391217624, 3645.3038394642654, 3500.36905875174, 3877.4320496821188, 5976.375565631496, 2213.4003571021744, 4140.429080116897, 2642.7056210434694, 2235.1387411585847, 2108.176409070565, 1986.0234904654938, 1178.866125303248, 1130.5016382711265, 618.6797072559182, 564.2691013673931, 514.5913770159884, 495.4849572009592, 472.7104841395843, 472.1380018327377, 416.9839452255054, 414.6254624707995, 402.6412588184933, 376.10517678865256, 358.49979049078104, 322.30401503688813, 281.2377269972055, 254.22338964503712, 235.21517837821978, 233.91745126940836, 224.75761107445982, 217.20795995344457, 198.90427124055796, 198.85504775657574, 195.30007284200622, 188.9041027722948, 180.6015040421564, 179.35000041697103, 177.1485137942381, 374.05075186269124, 1133.013066082878, 644.5420472639283, 2717.3668201435667, 504.5262199478626, 3255.689853497789, 8660.14909764236, 546.8535114677219, 946.3967410450691, 831.8659714400274, 3053.2905934613145, 1156.220389794485, 1455.6556068989437, 2620.6401950732875, 969.2512871090787, 4410.33664410169, 861.4001611886732, 2340.094002045376, 1008.500902893293, 958.5864851637832, 1199.248964817135, 6610.07390485317, 3935.4378391217624], \"Category\": [\"Default\", \"Default\", \"Default\", \"Default\", \"Default\", \"Default\", \"Default\", \"Default\", \"Default\", \"Default\", \"Default\", \"Default\", \"Default\", \"Default\", \"Default\", \"Default\", \"Default\", \"Default\", \"Default\", \"Default\", \"Default\", \"Default\", \"Default\", \"Default\", \"Default\", \"Default\", \"Default\", \"Default\", \"Default\", \"Default\", \"Topic1\", \"Topic1\", \"Topic1\", \"Topic1\", \"Topic1\", \"Topic1\", \"Topic1\", \"Topic1\", \"Topic1\", \"Topic1\", \"Topic1\", \"Topic1\", \"Topic1\", \"Topic1\", \"Topic1\", \"Topic1\", \"Topic1\", \"Topic1\", \"Topic1\", \"Topic1\", \"Topic1\", \"Topic1\", \"Topic1\", \"Topic1\", \"Topic1\", \"Topic1\", \"Topic1\", \"Topic1\", \"Topic1\", \"Topic1\", \"Topic1\", \"Topic1\", \"Topic1\", \"Topic1\", \"Topic1\", \"Topic1\", \"Topic1\", \"Topic1\", \"Topic1\", \"Topic1\", \"Topic1\", \"Topic1\", \"Topic1\", \"Topic1\", \"Topic1\", \"Topic1\", \"Topic1\", \"Topic1\", \"Topic1\", \"Topic1\", \"Topic1\", \"Topic1\", \"Topic1\", \"Topic1\", \"Topic1\", \"Topic1\", \"Topic1\", \"Topic1\", \"Topic1\", \"Topic1\", \"Topic1\", \"Topic1\", \"Topic1\", \"Topic1\", \"Topic1\", \"Topic1\", \"Topic1\", \"Topic1\", \"Topic1\", \"Topic1\", \"Topic1\", \"Topic1\", \"Topic1\", \"Topic1\", \"Topic1\", \"Topic1\", \"Topic1\", \"Topic1\", \"Topic1\", \"Topic1\", \"Topic2\", \"Topic2\", \"Topic2\", \"Topic2\", \"Topic2\", \"Topic2\", \"Topic2\", \"Topic2\", \"Topic2\", \"Topic2\", \"Topic2\", \"Topic2\", \"Topic2\", \"Topic2\", \"Topic2\", \"Topic2\", \"Topic2\", \"Topic2\", \"Topic2\", \"Topic2\", \"Topic2\", \"Topic2\", \"Topic2\", \"Topic2\", \"Topic2\", \"Topic2\", \"Topic2\", \"Topic2\", \"Topic2\", \"Topic2\", \"Topic2\", \"Topic2\", \"Topic2\", \"Topic2\", \"Topic2\", \"Topic2\", \"Topic2\", \"Topic2\", \"Topic2\", \"Topic2\", \"Topic2\", \"Topic2\", \"Topic2\", \"Topic2\", \"Topic2\", \"Topic2\", \"Topic2\", \"Topic2\", \"Topic2\", \"Topic2\", \"Topic2\", \"Topic2\", \"Topic2\", \"Topic2\", \"Topic2\", \"Topic2\", \"Topic2\", \"Topic2\", \"Topic2\", \"Topic2\", \"Topic2\", \"Topic2\", \"Topic2\", \"Topic2\", \"Topic2\", \"Topic2\", \"Topic2\", \"Topic2\", \"Topic2\", \"Topic2\", \"Topic2\", \"Topic2\", \"Topic2\", \"Topic2\", \"Topic2\", \"Topic2\", \"Topic2\", \"Topic3\", \"Topic3\", \"Topic3\", \"Topic3\", \"Topic3\", \"Topic3\", \"Topic3\", \"Topic3\", \"Topic3\", \"Topic3\", \"Topic3\", \"Topic3\", \"Topic3\", \"Topic3\", \"Topic3\", \"Topic3\", \"Topic3\", \"Topic3\", \"Topic3\", \"Topic3\", \"Topic3\", \"Topic3\", \"Topic3\", \"Topic3\", \"Topic3\", \"Topic3\", \"Topic3\", \"Topic3\", \"Topic3\", \"Topic3\", \"Topic3\", \"Topic3\", \"Topic3\", \"Topic3\", \"Topic3\", \"Topic3\", \"Topic3\", \"Topic3\", \"Topic3\", \"Topic3\", \"Topic3\", \"Topic3\", \"Topic3\", \"Topic3\", \"Topic3\", \"Topic3\", \"Topic3\", \"Topic3\", \"Topic3\", \"Topic3\", \"Topic3\", \"Topic3\", \"Topic3\", \"Topic3\", \"Topic3\", \"Topic3\", \"Topic3\", \"Topic3\", \"Topic3\", \"Topic3\", \"Topic3\", \"Topic3\", \"Topic3\", \"Topic3\", \"Topic3\", \"Topic3\", \"Topic3\", \"Topic3\", \"Topic3\", \"Topic3\", \"Topic3\", \"Topic3\", \"Topic3\", \"Topic3\", \"Topic4\", \"Topic4\", \"Topic4\", \"Topic4\", \"Topic4\", \"Topic4\", \"Topic4\", \"Topic4\", \"Topic4\", \"Topic4\", \"Topic4\", \"Topic4\", \"Topic4\", \"Topic4\", \"Topic4\", \"Topic4\", \"Topic4\", \"Topic4\", \"Topic4\", \"Topic4\", \"Topic4\", \"Topic4\", \"Topic4\", \"Topic4\", \"Topic4\", \"Topic4\", \"Topic4\", \"Topic4\", \"Topic4\", \"Topic4\", \"Topic4\", \"Topic4\", \"Topic4\", \"Topic4\", \"Topic4\", \"Topic4\", \"Topic4\", \"Topic4\", \"Topic4\", \"Topic4\", \"Topic4\", \"Topic4\", \"Topic4\", \"Topic4\", \"Topic4\", \"Topic4\", \"Topic4\", \"Topic4\", \"Topic4\", \"Topic4\", \"Topic4\", \"Topic4\", \"Topic4\"], \"logprob\": [30.0, 29.0, 28.0, 27.0, 26.0, 25.0, 24.0, 23.0, 22.0, 21.0, 20.0, 19.0, 18.0, 17.0, 16.0, 15.0, 14.0, 13.0, 12.0, 11.0, 10.0, 9.0, 8.0, 7.0, 6.0, 5.0, 4.0, 3.0, 2.0, 1.0, -6.0166, -6.1064, -6.2364, -6.2509, -6.3452, -6.5267, -6.5666, -6.6487, -6.658, -6.6888, -6.7816, -6.7816, -6.6645, -6.8033, -6.8154, -6.986, -6.9862, -7.0313, -7.0811, -7.1185, -7.199, -7.1112, -7.2371, -7.2373, -7.2415, -7.2423, -7.2797, -7.2967, -7.3106, -7.3142, -5.9825, -5.2405, -6.3797, -6.2245, -6.6907, -5.5171, -7.1888, -5.7407, -6.0452, -6.6434, -6.6476, -6.2535, -6.7716, -6.2039, -4.5067, -5.0889, -5.881, -4.2948, -5.9382, -4.9974, -5.8344, -4.7032, -5.1809, -6.322, -5.8081, -5.6221, -5.7052, -5.8633, -4.448, -5.1857, -4.6059, -5.2291, -5.2451, -4.8319, -5.3926, -4.6029, -5.5667, -4.4925, -5.0933, -5.3845, -5.2433, -5.1711, -5.2277, -5.4528, -5.3647, -5.5355, -5.5552, -5.533, -5.6677, -5.6437, -5.8617, -5.9047, -5.9065, -6.1574, -6.1654, -6.1658, -6.1279, -6.2142, -6.2618, -6.3341, -6.4044, -6.4052, -6.4438, -6.6637, -6.5539, -6.7001, -6.6957, -6.7481, -6.7472, -6.7596, -6.8038, -6.8351, -6.9179, -6.94, -6.9534, -6.9516, -7.0071, -7.0326, -7.0359, -7.0382, -5.5189, -5.2518, -6.2999, -6.6434, -6.8077, -6.8929, -5.3205, -5.9287, -6.1527, -5.1608, -5.6885, -6.3211, -4.4361, -5.3193, -5.9941, -5.1363, -5.1823, -4.7885, -4.8338, -4.5758, -5.5358, -4.8589, -5.2873, -5.2305, -5.9196, -5.2564, -5.0018, -5.1316, -4.898, -5.6448, -5.6938, -5.8882, -5.5632, -5.5089, -4.8458, -4.9492, -5.0603, -5.1921, -5.4523, -5.0554, -5.1278, -5.2167, -5.3573, -5.2089, -5.4438, -5.4363, -5.4942, -3.8363, -5.54, -5.6668, -5.7828, -6.1151, -4.9253, -6.293, -6.3694, -6.4099, -6.4907, -6.5696, -6.7303, -6.7795, -7.0446, -7.0732, -7.1148, -7.1299, -7.1471, -7.2697, -7.3209, -7.3419, -7.3823, -7.386, -7.2561, -7.4253, -7.4591, -7.4862, -7.5499, -7.5812, -7.5824, -6.739, -5.0302, -5.6048, -5.3628, -6.2153, -4.07, -5.4599, -4.4663, -5.3203, -6.0553, -4.5155, -4.4133, -5.2158, -5.8832, -3.9954, -6.0452, -6.4838, -5.3528, -5.6889, -5.5874, -4.6687, -4.2612, -4.9209, -4.8795, -4.8875, -4.5797, -4.2116, -4.1288, -5.3136, -4.7866, -4.9327, -4.7491, -5.2451, -4.4407, -4.9388, -4.7646, -4.8504, -4.8873, -4.9511, -4.9585, -4.8586, -5.0936, -5.0648, -5.141, -3.8222, -3.8807, -3.9404, -4.4621, -4.504, -5.1071, -5.1992, -5.2914, -5.3293, -5.3764, -5.3776, -5.5019, -5.5076, -5.5369, -5.6052, -5.6532, -5.7597, -5.8961, -5.9973, -6.0751, -6.0806, -6.1206, -6.1549, -6.243, -6.2433, -6.2614, -6.2947, -6.3398, -6.3467, -6.3591, -5.6192, -4.556, -5.2512, -4.0728, -5.5036, -4.0379, -3.3571, -5.5015, -5.1179, -5.2385, -4.4359, -5.0629, -4.9877, -4.7261, -5.2717, -4.7419, -5.3582, -5.0664, -5.3134, -5.3724, -5.362, -5.2799, -5.3261], \"loglift\": [30.0, 29.0, 28.0, 27.0, 26.0, 25.0, 24.0, 23.0, 22.0, 21.0, 20.0, 19.0, 18.0, 17.0, 16.0, 15.0, 14.0, 13.0, 12.0, 11.0, 10.0, 9.0, 8.0, 7.0, 6.0, 5.0, 4.0, 3.0, 2.0, 1.0, 0.8161, 0.8161, 0.816, 0.816, 0.816, 0.8159, 0.8158, 0.8158, 0.8158, 0.8158, 0.8157, 0.8157, 0.8157, 0.8157, 0.8157, 0.8155, 0.8155, 0.8155, 0.8154, 0.8154, 0.8153, 0.8152, 0.8152, 0.8152, 0.8152, 0.8152, 0.8152, 0.8151, 0.8151, 0.8151, 0.8123, 0.804, 0.8144, 0.8082, 0.8122, 0.7985, 0.8148, 0.795, 0.801, 0.8077, 0.8075, 0.7982, 0.8081, 0.785, 0.7143, 0.7256, 0.7647, 0.664, 0.7672, 0.6855, 0.73, 0.6138, 0.6595, 0.7737, 0.7129, 0.6631, 0.6714, 0.6891, 0.4363, 0.5622, 0.3259, 0.4888, 0.4569, 0.3174, 0.485, 0.1806, 0.522, 0.0209, 0.2088, 0.3159, 0.1692, 0.0171, 0.0645, 0.2688, -0.1133, 0.1732, 0.1992, -0.1542, 0.2859, -0.0731, 1.2015, 1.2015, 1.2015, 1.2014, 1.2014, 1.2014, 1.2014, 1.2014, 1.2013, 1.2013, 1.2012, 1.2012, 1.2012, 1.201, 1.201, 1.201, 1.201, 1.2009, 1.2009, 1.2009, 1.2009, 1.2008, 1.2007, 1.2007, 1.2007, 1.2006, 1.2006, 1.2006, 1.2006, 1.2006, 1.1998, 1.1963, 1.1996, 1.2002, 1.1999, 1.2002, 1.1804, 1.187, 1.1845, 1.1513, 1.1555, 1.1744, 1.0515, 1.1001, 1.1378, 1.0603, 1.0323, 0.9659, 0.968, 0.8936, 1.0254, 0.8683, 0.9574, 0.9379, 1.0937, 0.8701, 0.7494, 0.7916, 0.6726, 0.9596, 0.9675, 1.0623, 0.8802, 0.8361, 0.4055, 0.4701, 0.4731, 0.418, 0.6992, 0.2368, 0.2847, 0.162, 0.3332, -0.0595, 0.4242, 0.3181, 0.2893, 2.0545, 2.0538, 2.0537, 2.0536, 2.0532, 2.0531, 2.0529, 2.0528, 2.0527, 2.0525, 2.0524, 2.052, 2.0518, 2.051, 2.0509, 2.0507, 2.0507, 2.0506, 2.0501, 2.0498, 2.0497, 2.0495, 2.0495, 2.0493, 2.0493, 2.0491, 2.049, 2.0486, 2.0484, 2.0484, 2.0338, 1.9791, 1.9909, 1.9651, 1.9983, 1.8336, 1.8998, 1.81, 1.8499, 1.9221, 1.7337, 1.7203, 1.7598, 1.8462, 1.508, 1.8632, 1.9393, 1.7032, 1.7633, 1.735, 1.4638, 1.2722, 1.3526, 1.3086, 1.245, 0.9762, 0.7202, 0.6548, 1.3875, 0.9647, 0.9662, 0.7203, 1.2502, 0.0727, 0.7792, 0.4236, 0.4517, 0.4914, 0.4682, 0.3585, 0.0258, 0.7841, 0.1866, 0.5593, 2.0456, 2.0456, 2.0456, 2.0455, 2.0455, 2.0452, 2.0452, 2.0451, 2.0451, 2.0451, 2.0451, 2.045, 2.045, 2.0449, 2.0449, 2.0448, 2.0447, 2.0446, 2.0444, 2.0443, 2.0443, 2.0442, 2.0442, 2.044, 2.044, 2.044, 2.0439, 2.0439, 2.0438, 2.0438, 2.0363, 1.9913, 1.8602, 1.5997, 1.8526, 1.4538, 1.1563, 1.7742, 1.6093, 1.6178, 1.12, 1.4641, 1.309, 0.9826, 1.4317, 0.4463, 1.4631, 0.7556, 1.3502, 1.342, 1.1285, -0.4964, -0.024]}, \"token.table\": {\"Topic\": [3, 1, 4, 1, 3, 4, 2, 3, 1, 3, 1, 1, 4, 1, 2, 3, 3, 2, 3, 1, 2, 3, 4, 1, 2, 3, 4, 1, 2, 3, 4, 1, 2, 3, 1, 2, 3, 3, 4, 1, 2, 3, 1, 2, 3, 4, 2, 2, 3, 1, 2, 3, 1, 2, 3, 4, 1, 3, 4, 2, 1, 2, 3, 3, 2, 1, 2, 3, 4, 2, 3, 4, 1, 2, 3, 1, 3, 4, 1, 2, 3, 2, 3, 1, 4, 1, 2, 3, 4, 2, 3, 1, 2, 3, 1, 3, 1, 1, 2, 3, 4, 1, 2, 3, 4, 1, 3, 1, 2, 1, 2, 1, 2, 4, 1, 2, 3, 2, 3, 1, 3, 4, 1, 3, 1, 3, 4, 1, 2, 3, 1, 2, 1, 2, 3, 2, 3, 1, 1, 1, 2, 3, 4, 1, 2, 3, 3, 1, 1, 2, 1, 2, 3, 4, 4, 2, 2, 1, 2, 3, 2, 3, 1, 2, 1, 2, 3, 4, 1, 2, 3, 4, 3, 2, 2, 1, 2, 3, 4, 2, 1, 2, 3, 4, 1, 2, 3, 4, 1, 3, 1, 2, 1, 4, 1, 2, 3, 1, 2, 3, 4, 1, 2, 3, 4, 1, 2, 4, 3, 1, 1, 2, 3, 1, 2, 3, 4, 1, 3, 4, 1, 3, 1, 2, 3, 1, 4, 1, 2, 2, 3, 1, 1, 4, 1, 2, 4, 2, 4, 4, 1, 1, 2, 3, 4, 1, 3, 1, 2, 2, 1, 2, 3, 1, 1, 2, 3, 1, 2, 3, 4, 3, 4, 1, 1, 2, 3, 1, 3, 4, 1, 2, 3, 4, 3, 2, 3, 1, 4, 1, 2, 3, 4, 1, 4, 4, 2, 1, 2, 3, 1, 2, 1, 2, 3, 1, 2, 3, 1, 2, 3, 4, 1, 2, 1, 3, 4, 4, 1, 2, 3, 4, 4, 1, 2, 3, 1, 3, 4, 1, 3, 4, 1, 3, 1, 1, 2, 2, 3, 2, 2, 1, 2, 3, 1, 2, 3, 3, 1, 3, 4, 4, 2, 3, 3, 3, 1, 2, 3, 4, 1, 2, 3, 4, 1, 3, 4, 1, 1, 3, 4, 4, 1, 2, 3, 4, 1, 2, 3, 4, 2, 3, 1, 2, 3, 4, 1, 2, 4, 2, 1, 3, 1, 3, 4, 4, 2, 1, 2, 2, 1, 1, 3, 2, 3, 1, 1, 2, 3, 4, 2, 3, 1, 2, 3, 4, 1, 2, 4, 1, 2, 4, 2, 4, 2, 1, 2, 3, 1, 3, 1, 3, 4, 1, 3, 4, 1, 2, 4, 2, 4, 2, 3, 3, 3, 4, 1, 2, 3, 3, 1, 2, 3, 4, 1, 2, 3, 2, 3, 1, 2, 1, 2, 3, 4, 1, 2, 4, 3, 2, 3, 1, 2, 3, 1, 2, 3, 2, 3, 3, 3, 1, 2, 3, 2, 1, 4, 1, 2, 1, 2, 3, 2, 3, 4, 4, 2, 3, 1, 3, 1, 2, 3, 4, 1, 2, 3, 4, 3, 2, 4], \"Freq\": [0.9986028115742424, 0.17442106380337152, 0.8245359379795745, 0.1442884919529822, 0.02482382657255608, 0.8300467010198439, 0.14319532085727582, 0.8571831012428593, 0.07285085305724363, 0.9274473985364478, 0.9981063356414592, 0.9992617308467046, 0.9990567444936939, 0.28181631554186354, 0.7163965097153856, 0.0015548486374723507, 0.9884719700418774, 0.7915271764884546, 0.20856112904298962, 0.4827391110580452, 0.18045027956376258, 0.33690205647454396, 1.0000385021406182, 0.2517407025868003, 0.1712662156942986, 0.035078622491603324, 0.540623476047063, 0.44962554109152436, 0.15259606109661922, 0.1956766726989337, 0.20202539440874848, 0.9978752479366445, 0.9994737166785934, 0.9983294170833186, 0.02098697800002754, 0.5340019957784785, 0.44480733927836147, 0.9979153567285242, 0.9984915000948753, 0.606196916994278, 0.16952323271750097, 0.22401284323384058, 0.6121820443597707, 0.11387393143866185, 0.2633663653149945, 0.010527636188474132, 0.9988311618088337, 0.9970547374943308, 0.9950748709628755, 0.002518320935169338, 0.06043970244406411, 0.939333708818163, 0.2874966726312696, 0.00030715456477699743, 0.15910606455448467, 0.5531853711633724, 0.508362002999088, 0.013052537914841447, 0.47882204877076256, 0.9994674073973789, 0.7178999474276533, 0.0013553806433498803, 0.2805637931734252, 0.9923463438471888, 0.9988496138040853, 0.8585552770172845, 0.036952305645295676, 0.10454798670376339, 0.9984073693282823, 0.5238412336817619, 0.4739222455309117, 0.001848851412994454, 0.38678526903933685, 0.6048347217850152, 0.008317962775039501, 0.4512624385489985, 0.13775744349768557, 0.41084742997884766, 0.22298296007425517, 0.7680524180335456, 0.009064347970498177, 0.2744842194877288, 0.7251886180737847, 0.9990273297519241, 0.9989013584122017, 0.982211670469937, 0.014001591881253557, 0.0007000795940626778, 0.0035003979703133892, 0.051380489907535104, 0.9435326328474629, 0.3142525778102578, 0.4810921282113401, 0.20454985973831327, 0.08476838446676817, 0.915113241402611, 0.998307126507924, 0.07992269486133739, 0.1422353044142445, 0.7450420707412807, 0.03386554867005822, 0.5235249027641818, 0.39952469544280106, 0.07689715373934594, 0.00028375333483153487, 0.9923426114160128, 0.008604126688578144, 0.9876487934212871, 0.012278876891183569, 0.06175918386261772, 0.9374727396581972, 0.9960417250421875, 0.004590054032452477, 0.9984969994036043, 0.3570505699653845, 0.0640142884359175, 0.5789253366801665, 0.18709292092125251, 0.8116954415352802, 0.697773704626592, 0.1857192369728572, 0.1163587872462595, 0.2965068266611325, 0.7031028216370419, 0.26364997872260315, 0.34028860607799344, 0.3962937568377017, 0.21594864170207742, 0.06828646237606231, 0.7155487425047213, 1.0004063485310386, 0.9983092310331487, 0.15314433335314045, 0.8441923169135923, 0.003164139118866538, 0.10943843069552407, 0.8927871977792754, 0.9989890908291648, 0.9995897268100072, 0.12791262717753776, 0.16559231580347913, 0.20723828744267747, 0.49876008891706586, 0.09580415927583756, 0.17627965306754112, 0.7261955273108487, 0.996414971807344, 0.999723231113105, 0.005595217727201223, 0.9943501218054746, 0.4031826941202185, 0.41929501368078487, 0.17536198963593147, 0.0022482306363580955, 0.9999379272722405, 0.9979367677767558, 1.000397065580412, 0.0803655430304095, 0.7849657691342323, 0.13456556042301127, 0.996110315778519, 1.0000121261273067, 0.9992031112529044, 0.998015144968031, 0.5254441271978931, 0.011829170619560412, 0.11752853389756797, 0.3453354648613604, 0.03488035174579823, 0.9508383885904598, 0.004883249244411752, 0.009766498488823504, 0.9997990221131815, 0.9994739858179099, 1.0004826449584356, 0.9986883050369267, 0.6935687026181689, 0.3064102896182139, 0.9990212473781268, 0.9991417062444848, 0.9166745798848105, 0.0035912814099306974, 0.07900819101847534, 0.9999881721109511, 0.27709781909288866, 0.6634270310363871, 0.0397205064911308, 0.0198602532455654, 1.000086786270341, 0.9956137042441108, 0.9789306768441992, 0.020939693622335814, 0.9987633778177558, 0.9980485061825631, 0.4715007624150621, 0.3809243085893298, 0.1476899399880691, 0.5883500564877391, 0.05995613665947963, 0.13648551434678288, 0.2154521333617073, 0.18469297148503644, 0.049373368614811716, 0.003657286564060127, 0.7625442486065366, 0.06782473143762378, 0.7832452159287131, 0.1493448413386139, 0.9971771186276636, 0.9991661692224002, 0.9522084503425907, 0.0165421663468854, 0.03101656190041012, 0.402547931483367, 0.07777465342884585, 0.24443462506208696, 0.2752026198251469, 0.9132530201339879, 0.07550350096788196, 0.011452778236701195, 0.9577292716483748, 0.04124193035806399, 0.9915262487504659, 0.008716714274729372, 1.0021881451990369, 0.9910907640428104, 0.008751353324881328, 0.9982407003552167, 0.9979985184821849, 0.2530533108791, 0.748252462340787, 0.9993550675471372, 0.9959381634207928, 0.003391389886790441, 0.9989355134315347, 1.0003169321865428, 1.0005076503172659, 0.9963811438192117, 1.0007289341913095, 0.9991547115682389, 1.0002212551505385, 0.7449229260272375, 0.0005579947011439981, 0.16516643153862345, 0.08927915218303971, 0.9821713934000149, 0.017538774882143122, 1.0000379776548207, 1.0002119763376105, 0.9994028304338328, 0.060577468613838906, 0.903225589716598, 0.03650180801090293, 0.9987903176079816, 0.09246545568187363, 0.869175283409612, 0.038307117353919076, 0.06891264634016173, 0.8376913892778102, 0.07965227953603109, 0.013424541494836701, 0.05295614128037876, 0.9470323265641069, 0.9983248566815021, 0.27127869713470043, 0.7247357568613259, 0.003977693506373907, 0.8771750152262907, 0.12084861379760257, 0.0018592094430400397, 0.8549216466846091, 0.07748271543271916, 0.028294250017565983, 0.039176653870475975, 0.9998211175987731, 0.18429527940797977, 0.8145193152406249, 0.9691290697779371, 0.030199489426507953, 0.048468431597864, 0.16896633793144256, 0.7828998048377199, 0.9988507832769804, 0.9988635503853017, 0.9995562693107694, 1.0001135622560344, 0.9973832639334121, 0.06020618429898341, 0.4826102113753617, 0.4573108041433421, 0.10266940311746074, 0.8973024546430131, 1.0001667290164076, 0.9972894560379983, 0.9889136647360995, 0.5392244106173993, 0.4130059559839933, 0.04753163323220039, 0.4045446704792148, 0.4567551364983271, 0.06431222966592645, 0.07468516993462426, 0.0022874377239624445, 0.9973228476476259, 0.39354531758178823, 0.04759692631520153, 0.5583932087222423, 0.9991616424487162, 0.37884359186996047, 0.35360564078231643, 0.20958472424956537, 0.05815701772370139, 0.9995230974605185, 0.002102641545206799, 0.7347230313679758, 0.2634309478780518, 0.1334349568450913, 0.2151788943718139, 0.6515472667571125, 0.42979950831416747, 0.075110593685971, 0.49447807509930913, 0.90190665078543, 0.0980146407907903, 1.000254868141425, 0.21009568624957056, 0.7896562199912567, 0.9547630647390001, 0.04512561748766419, 0.9991205569114545, 0.9989421659790079, 0.3946450883186887, 0.4509194491376939, 0.154331830743967, 0.9495520571117188, 0.035060383647201925, 0.014608493186334136, 0.9887999416061027, 0.9912916953546775, 0.007434687715160082, 0.002478229238386694, 0.999121286025849, 0.17212297925316836, 0.8261903004152081, 0.9987233640019936, 0.9982136670404532, 0.857741075743998, 0.11273556498297994, 0.024448676743296857, 0.004753909366752167, 0.607183340030693, 0.2833086058548384, 0.07698840482429403, 0.03271461961372268, 0.08981434139992685, 0.2631031883362563, 0.6466632580794733, 0.9968684339785308, 0.27784250341295885, 0.082064739418662, 0.6399577661392521, 0.9999163214853339, 0.6836919726895128, 0.1618037536932841, 0.13151783909298997, 0.022923592819007157, 0.8800621787356452, 0.02838910253985952, 0.0878287859826904, 0.00266147836311183, 0.12172185827302462, 0.874184254869904, 0.5445391561509798, 0.12781297038914738, 0.20124825556303128, 0.12628836239245775, 0.9976807369689416, 0.0016852715151502392, 0.998463529287831, 1.0004152630757228, 0.9841964617795653, 0.015471044743814206, 0.41514576653099733, 0.025946610408187333, 0.5587170107896339, 0.9997077086949112, 0.9998557485604079, 0.027338093205422263, 0.9727804832262755, 0.9999086971714596, 0.9990387338808594, 0.9999618737772207, 1.00030566887202, 0.5521743698816661, 0.44743719805282206, 0.9993310116850208, 0.09001392955323441, 0.7913312488196431, 0.04352321868508037, 0.07616563269889065, 0.9989809244737442, 1.0003437694393817, 0.5294948362725977, 0.1452328693776268, 0.24659330946409552, 0.07866780424621453, 0.08328996019881894, 0.8677073465488898, 0.04848221563811849, 0.999412560161883, 0.981929550089778, 0.01749973455605545, 1.000292941854304, 0.9997203527227394, 0.9995719252542546, 0.027872251367691933, 0.6358855062029145, 0.336059716490457, 0.7205322148694014, 0.2792014194443164, 0.8165197892402928, 0.18336878400184717, 0.9966292083687932, 0.35001628082721764, 0.5137003650964165, 0.1369181333824116, 0.014023680977172588, 0.984774041952564, 1.0003528968452062, 0.9973458770071438, 0.0020952644474939996, 0.0013583437622162768, 0.9983826652289635, 0.9995580923825097, 0.995515939328271, 0.99904257673849, 0.8646580669029618, 0.019346910274937183, 0.1160814616496231, 1.000710679345538, 0.7754097289550531, 0.03730220804594422, 0.17420924821456926, 0.012698624015640583, 0.9027761101262702, 0.0007029141786604751, 0.0962992424764851, 1.000736068919168, 1.00138919322242, 0.4107832489389373, 0.5889222630419069, 0.19262055401083758, 0.027517222001548224, 0.3810718319608345, 0.3994166466285333, 0.9990634880930809, 0.9993798357287274, 0.998605883450875, 0.9891123136265192, 0.9985504556897422, 1.0009297610803487, 0.5033929706268839, 0.4595418496300532, 0.03713921472180566, 0.07707897836997514, 0.8604093895029368, 0.0627031371660512, 0.5041023959126962, 0.49537625590355505, 0.9882499808939066, 0.9984740501004573, 0.02022250755584927, 0.9791064074957022, 0.0008426044814937196, 0.9984558080834293, 0.008020302018003316, 0.9891705822204089, 0.2822029094629561, 0.7173864515711287, 0.000463654284539151, 0.19798037949821748, 0.801658257968192, 0.4459481149000809, 0.553791776673303, 0.9990851849795434, 1.0004812805619758, 0.01634405319659202, 0.9806431917955212, 0.9996222191488806, 0.9930641294241591, 0.578251986111467, 0.2021562758932468, 0.21259264195274521, 0.0065710452967212155, 0.44080953970823605, 0.4013340585403343, 0.10896877614056209, 0.048521945602212554, 0.9950841283111728, 0.9972542343883412, 0.9966694405711262], \"Term\": [\"3d\", \"acquire\", \"acquire\", \"acquisition\", \"acquisition\", \"acquisition\", \"advertising\", \"advertising\", \"agency\", \"agency\", \"agent\", \"ai\", \"alberta\", \"allow\", \"allow\", \"allow\", \"animation\", \"app\", \"app\", \"application\", \"application\", \"application\", \"approximately\", \"area\", \"area\", \"area\", \"area\", \"base\", \"base\", \"base\", \"base\", \"blockchain\", \"book\", \"bookkeeping\", \"brand\", \"brand\", \"brand\", \"branding\", \"british\", \"build\", \"build\", \"build\", \"business\", \"business\", \"business\", \"business\", \"buy\", \"buyer\", \"cad\", \"campaign\", \"campaign\", \"campaign\", \"canada\", \"canada\", \"canada\", \"canada\", \"canadian\", \"canadian\", \"canadian\", \"card\", \"client\", \"client\", \"client\", \"clients\", \"coffee\", \"collapse\", \"collapse\", \"collapse\", \"columbia\", \"com\", \"com\", \"com\", \"community\", \"community\", \"community\", \"company\", \"company\", \"company\", \"connect\", \"connect\", \"connect\", \"content\", \"content\", \"copper\", \"corp\", \"cost\", \"cost\", \"cost\", \"cost\", \"course\", \"course\", \"create\", \"create\", \"create\", \"creative\", \"creative\", \"critical\", \"custom\", \"custom\", \"custom\", \"custom\", \"customer\", \"customer\", \"customer\", \"customer\", \"data\", \"data\", \"datum\", \"datum\", \"deal\", \"deal\", \"decision\", \"decision\", \"deposit\", \"design\", \"design\", \"design\", \"designer\", \"designer\", \"develop\", \"develop\", \"develop\", \"developer\", \"developer\", \"development\", \"development\", \"development\", \"digital\", \"digital\", \"digital\", \"disease\", \"download\", \"easy\", \"easy\", \"easy\", \"educational\", \"educational\", \"efficiency\", \"employee\", \"engage\", \"engage\", \"engage\", \"engage\", \"engine\", \"engine\", \"engine\", \"english\", \"evaluation\", \"event\", \"event\", \"experience\", \"experience\", \"experience\", \"experience\", \"exploration\", \"fan\", \"fashion\", \"feature\", \"feature\", \"feature\", \"feel\", \"film\", \"financial\", \"fitness\", \"focus\", \"focus\", \"focus\", \"focus\", \"free\", \"free\", \"free\", \"free\", \"french\", \"friend\", \"fun\", \"fund\", \"game\", \"game\", \"gas\", \"gift\", \"global\", \"global\", \"global\", \"gold\", \"good\", \"good\", \"good\", \"good\", \"government\", \"graphic\", \"health\", \"health\", \"healthcare\", \"hectare\", \"help\", \"help\", \"help\", \"high\", \"high\", \"high\", \"high\", \"hold\", \"hold\", \"hold\", \"hold\", \"home\", \"home\", \"home\", \"hosting\", \"impact\", \"improve\", \"improve\", \"improve\", \"include\", \"include\", \"include\", \"include\", \"industry\", \"industry\", \"industry\", \"innovation\", \"innovation\", \"insight\", \"insight\", \"instructor\", \"insurance\", \"insurance\", \"intelligence\", \"interact\", \"interactive\", \"interactive\", \"invest\", \"investment\", \"investment\", \"investor\", \"item\", \"junior\", \"kid\", \"kilometer\", \"lake\", \"law\", \"lead\", \"lead\", \"lead\", \"lead\", \"leader\", \"leader\", \"legal\", \"let\", \"lifestyle\", \"like\", \"like\", \"like\", \"lithium\", \"live\", \"live\", \"live\", \"local\", \"local\", \"local\", \"local\", \"locate\", \"locate\", \"machine\", \"make\", \"make\", \"make\", \"management\", \"management\", \"management\", \"market\", \"market\", \"market\", \"market\", \"marketing\", \"media\", \"media\", \"medical\", \"medical\", \"medium\", \"medium\", \"medium\", \"metal\", \"mexico\", \"mineral\", \"mining\", \"minute\", \"mobile\", \"mobile\", \"mobile\", \"money\", \"money\", \"monitoring\", \"mortgage\", \"mount\", \"need\", \"need\", \"need\", \"new\", \"new\", \"new\", \"new\", \"news\", \"news\", \"north\", \"north\", \"north\", \"northern\", \"offer\", \"offer\", \"offer\", \"offer\", \"oil\", \"online\", \"online\", \"online\", \"ontario\", \"ontario\", \"ontario\", \"operate\", \"operate\", \"operate\", \"organization\", \"organization\", \"patient\", \"people\", \"people\", \"phone\", \"phone\", \"photo\", \"picture\", \"platform\", \"platform\", \"platform\", \"power\", \"power\", \"power\", \"pr\", \"practice\", \"practice\", \"practice\", \"precious\", \"print\", \"print\", \"printer\", \"printing\", \"process\", \"process\", \"process\", \"process\", \"product\", \"product\", \"product\", \"product\", \"production\", \"production\", \"production\", \"productivity\", \"project\", \"project\", \"project\", \"property\", \"provide\", \"provide\", \"provide\", \"provide\", \"provider\", \"provider\", \"provider\", \"provider\", \"publisher\", \"publisher\", \"read\", \"read\", \"read\", \"read\", \"reduce\", \"reduce\", \"repair\", \"request\", \"research\", \"research\", \"resource\", \"resource\", \"resource\", \"resources\", \"restaurant\", \"retailer\", \"retailer\", \"reward\", \"risk\", \"safety\", \"saskatchewan\", \"search\", \"search\", \"security\", \"sell\", \"sell\", \"sell\", \"sell\", \"send\", \"seo\", \"service\", \"service\", \"service\", \"service\", \"share\", \"share\", \"share\", \"shareholder\", \"shop\", \"shop\", \"shopping\", \"silver\", \"smartphone\", \"social\", \"social\", \"social\", \"software\", \"software\", \"solution\", \"solution\", \"south\", \"specialize\", \"specialize\", \"specialize\", \"sport\", \"sport\", \"states\", \"store\", \"store\", \"student\", \"student\", \"studio\", \"studios\", \"subsidiary\", \"support\", \"support\", \"support\", \"teacher\", \"team\", \"team\", \"team\", \"team\", \"technology\", \"technology\", \"technology\", \"text\", \"theme\", \"time\", \"time\", \"toronto\", \"toronto\", \"toronto\", \"toronto\", \"total\", \"travel\", \"tsx\", \"tutor\", \"twitter\", \"ui\", \"use\", \"use\", \"use\", \"user\", \"user\", \"user\", \"video\", \"video\", \"voip\", \"vr\", \"want\", \"want\", \"want\", \"watch\", \"water\", \"water\", \"way\", \"way\", \"web\", \"web\", \"web\", \"website\", \"website\", \"west\", \"western\", \"windows\", \"windows\", \"wireless\", \"wordpress\", \"work\", \"work\", \"work\", \"work\", \"world\", \"world\", \"world\", \"world\", \"writing\", \"you\\u00e2\", \"zinc\"]}, \"R\": 30, \"lambda.step\": 0.01, \"plot.opts\": {\"xlab\": \"PC1\", \"ylab\": \"PC2\"}, \"topic.order\": [1, 2, 3, 4]};\n",
       "\n",
       "function LDAvis_load_lib(url, callback){\n",
       "  var s = document.createElement('script');\n",
       "  s.src = url;\n",
       "  s.async = true;\n",
       "  s.onreadystatechange = s.onload = callback;\n",
       "  s.onerror = function(){console.warn(\"failed to load library \" + url);};\n",
       "  document.getElementsByTagName(\"head\")[0].appendChild(s);\n",
       "}\n",
       "\n",
       "if(typeof(LDAvis) !== \"undefined\"){\n",
       "   // already loaded: just create the visualization\n",
       "   !function(LDAvis){\n",
       "       new LDAvis(\"#\" + \"ldavis_el14071911399627733220161289822440\", ldavis_el14071911399627733220161289822440_data);\n",
       "   }(LDAvis);\n",
       "}else if(typeof define === \"function\" && define.amd){\n",
       "   // require.js is available: use it to load d3/LDAvis\n",
       "   require.config({paths: {d3: \"https://d3js.org/d3.v5\"}});\n",
       "   require([\"d3\"], function(d3){\n",
       "      window.d3 = d3;\n",
       "      LDAvis_load_lib(\"https://cdn.jsdelivr.net/gh/bmabey/pyLDAvis@3.4.0/pyLDAvis/js/ldavis.v3.0.0.js\", function(){\n",
       "        new LDAvis(\"#\" + \"ldavis_el14071911399627733220161289822440\", ldavis_el14071911399627733220161289822440_data);\n",
       "      });\n",
       "    });\n",
       "}else{\n",
       "    // require.js not available: dynamically load d3 & LDAvis\n",
       "    LDAvis_load_lib(\"https://d3js.org/d3.v5.js\", function(){\n",
       "         LDAvis_load_lib(\"https://cdn.jsdelivr.net/gh/bmabey/pyLDAvis@3.4.0/pyLDAvis/js/ldavis.v3.0.0.js\", function(){\n",
       "                 new LDAvis(\"#\" + \"ldavis_el14071911399627733220161289822440\", ldavis_el14071911399627733220161289822440_data);\n",
       "            })\n",
       "         });\n",
       "}\n",
       "</script>"
      ],
      "text/plain": [
       "<IPython.core.display.HTML object>"
      ]
     },
     "execution_count": 18,
     "metadata": {},
     "output_type": "execute_result"
    }
   ],
   "source": [
    "# Aplicando o LDA\n",
    "num_topics = 5 \n",
    "lda_model = train_lda(corpus, \n",
    "                      dct, \n",
    "                      num_topics=best_result['num_topics'],\n",
    "                      alpha=best_result['alpha'],\n",
    "                      eta=best_result['eta'])\n",
    "vis = visualize_lda_model(lda_model, corpus, dct)\n",
    "\n",
    "# Exibir a visualização do LDA\n",
    "pyLDAvis.display(vis)\n"
   ]
  },
  {
   "cell_type": "code",
   "execution_count": 19,
   "metadata": {},
   "outputs": [
    {
     "name": "stdout",
     "output_type": "stream",
     "text": [
      "Tópico 1: 0.014*\"collapse\" + 0.012*\"provide\" + 0.011*\"company\" + 0.011*\"technology\" + 0.010*\"service\" + 0.010*\"business\" + 0.009*\"solution\" + 0.008*\"product\" + 0.007*\"management\" + 0.006*\"industry\"\n",
      "\n",
      "Tópico 2: 0.012*\"user\" + 0.010*\"online\" + 0.008*\"people\" + 0.008*\"app\" + 0.008*\"platform\" + 0.008*\"allow\" + 0.007*\"time\" + 0.007*\"create\" + 0.007*\"social\" + 0.006*\"help\"\n",
      "\n",
      "Tópico 3: 0.022*\"marketing\" + 0.018*\"design\" + 0.017*\"web\" + 0.016*\"service\" + 0.015*\"business\" + 0.014*\"mobile\" + 0.012*\"digital\" + 0.012*\"company\" + 0.011*\"medium\" + 0.011*\"content\"\n",
      "\n",
      "Tópico 4: 0.035*\"company\" + 0.022*\"exploration\" + 0.021*\"property\" + 0.019*\"gold\" + 0.018*\"canada\" + 0.017*\"project\" + 0.012*\"development\" + 0.012*\"mining\" + 0.011*\"mineral\" + 0.011*\"locate\"\n",
      "\n"
     ]
    }
   ],
   "source": [
    "# Exibindo os tópicos e os principais termos associados a cada um\n",
    "for i, topic in lda_model.show_topics(formatted=True, num_topics=5, num_words=10):\n",
    "    print(f\"Tópico {i+1}: {topic}\\n\")"
   ]
  },
  {
   "cell_type": "markdown",
   "metadata": {},
   "source": [
    "##### Salvar o modelo LDA"
   ]
  },
  {
   "cell_type": "code",
   "execution_count": 20,
   "metadata": {},
   "outputs": [],
   "source": [
    "with open(ROOT_DIR / SOURCE_SUBDIR / 'lda_model.pkl', 'wb') as hldafile:\n",
    "    pickle.dump(lda_model, hldafile)"
   ]
  },
  {
   "cell_type": "markdown",
   "metadata": {},
   "source": [
    "##### Os quatro tópicos identificados são relativos às seguintes áreas:\n",
    "\n",
    "*Tópico 1*: Serviços Empresariais e Tecnologia\n",
    "Este tópico parece ser relativo a empresas que oferecem serviços empresariais e soluções tecnológicas. Os termos que apóiam isso são \"provide\", \"technology\", \"service\", \"solution\" e \"management\";\n",
    "\n",
    "*Tópico 2*: Plataformas Digitais e Engajamento do Usuário\n",
    "Este tópico aponta a empresas envolvidas com plataformas digitais, aplicativos e redes sociais. Os termos que apóiam são \"user\", \"online\", \"app\", \"platform\" e \"social\";\n",
    "\n",
    "*Tópico 3*: Marketing e Design Digital\n",
    "Este tópico parece ser relativo a marketing e design, particularmente no espaço digital.\n",
    "Os termos que apóiam isso são \"marketing\", \"design\", \"web\", \"digital\", \"content\" e \"mobile\";\n",
    "\n",
    "*Tópico 4*: Mineração e Exploração\n",
    "Este tópico é visivelmente focado em empresas do setor de mineração e exploração.\n",
    "Os termos importantes são \"exploration\", \"property\", \"gold\", \"mining\" e \"mineral\".\n",
    "\n",
    "Não se destacou nenhum tópico relativo a \"tratamento de água\", porém pode estar inserido nos \n",
    "tópicos 1 e 4, o primeiro devido ao uso de tecnologias mais genéricas, e o segundo pela necessidade e soluções necessárias relacionadas com água na mineração. Esta teoría vai ser validada ou não ao verificar se as empresas com os termos específicos caem apenas nos dois\n",
    "grupos de tópicos.\n",
    "\n",
    "\n",
    "\n"
   ]
  },
  {
   "cell_type": "code",
   "execution_count": 21,
   "metadata": {},
   "outputs": [],
   "source": [
    "# Salvar a visualização da distância entre tópicos em html\n",
    "pyLDAvis.save_html(vis, str(ROOT_DIR / SOURCE_SUBDIR / 'lda_visualization.html'))"
   ]
  },
  {
   "cell_type": "markdown",
   "metadata": {},
   "source": [
    "##### Adicionar o índice do tópico (LDA) a cada registro"
   ]
  },
  {
   "cell_type": "code",
   "execution_count": 22,
   "metadata": {},
   "outputs": [],
   "source": [
    "def assign_topics_to_docs(lda_model, corpus):\n",
    "    # Somando 1 para alinhar com os tópicos do LDAvis\n",
    "    topics = [max(doc, key=lambda x: x[1])[0] + 1 for doc in lda_model[corpus]]\n",
    "    return topics\n",
    "\n",
    "# Associando tópicos aos registros e adicionando ao DataFrame\n",
    "df['topic'] = assign_topics_to_docs(lda_model, corpus)\n"
   ]
  },
  {
   "cell_type": "code",
   "execution_count": 23,
   "metadata": {},
   "outputs": [],
   "source": [
    "df.to_parquet(FULL_DATA_FILE_NAME)"
   ]
  },
  {
   "cell_type": "markdown",
   "metadata": {},
   "source": [
    "##### Verificar em quais tópicos cairam os registros com os termos propostos no enunciado"
   ]
  },
  {
   "cell_type": "code",
   "execution_count": 24,
   "metadata": {},
   "outputs": [
    {
     "name": "stdout",
     "output_type": "stream",
     "text": [
      "                                             description  topic\n",
      "3181   \"jet set is a line of hot tubs that boast stun...      1\n",
      "11018  \"4deep inwater imaging is a privately owned, h...      1\n",
      "4400   \"imagine housing solutions that offer: 90% red...      1\n",
      "4786   \"aquatic informatics provides leading software...      1\n",
      "368    \"we are using advanced stem cell and cell cult...      1\n",
      "10311  \"the product is a software that works on cell ...      1\n"
     ]
    }
   ],
   "source": [
    "# Lista dos índices dos registros especificados obtidos utilizando os termos originais\n",
    "registros_indices = [3181, 11018, 4400, 4786, 368, 10311]\n",
    "\n",
    "# Filtrando os registros especificados e seus tópicos dominantes\n",
    "registros_selecionados = df.loc[registros_indices, ['description', 'topic']]\n",
    "\n",
    "# Exibindo os resultados\n",
    "print(registros_selecionados)"
   ]
  },
  {
   "cell_type": "markdown",
   "metadata": {},
   "source": [
    "Tópico 1 confirmado para os termos sugeridos pelo enunciado. Será verificado agora\n",
    "o caso ao adicionar o termo \"water\"."
   ]
  },
  {
   "cell_type": "markdown",
   "metadata": {},
   "source": [
    "##### Análise dos documentos com pelo menos um termo e seu tópico"
   ]
  },
  {
   "cell_type": "code",
   "execution_count": 25,
   "metadata": {},
   "outputs": [
    {
     "name": "stdout",
     "output_type": "stream",
     "text": [
      "                                             description  topic\n",
      "18229  \"greenlife water is the leading provider of wa...      2\n",
      "354    \"o waste r/o out door water vending, electroni...      4\n",
      "10182  \"o waste r/o out door water vending, electroni...      4\n",
      "16544  \"our vision is to create a cost effective, tec...      2\n",
      "5008   \"sanzfield allows homeowners and small communi...      1\n",
      "5231   \"water is our future! without water we do not ...      1\n",
      "10707  \"demizine takes artifical intelligence (ai) an...      1\n",
      "1936   \"aquatech waterproofing has been keeping water...      4\n",
      "13391  \"tablâ€™eau filtered water provides exceptiona...      4\n",
      "16914  \"puritas energy is a green tech company which ...      1\n",
      "10547  \"fer-pal infrastructure is proud to offer a ce...      4\n",
      "10299  \"swirltex has developed a membrane filtration ...      1\n",
      "11179  \"edgewater exploration is a canadian based min...      4\n",
      "16280  \"homebeaver is an innovative new automation sy...      2\n",
      "5897   \"we are fredsense technologies, a calgary base...      1\n",
      "89     \"swirltex has developed a membrane filtration ...      1\n",
      "8677   we have a non-clogging spinning membrane techn...      1\n",
      "2154   auto repair waterloo brake service waterloo au...      4\n",
      "15972  \"the solution that oneka developed takes the r...      4\n"
     ]
    }
   ],
   "source": [
    "# Lista dos índices dos registros especificados obtidos adicionando o termo \"water\"\n",
    "registros_indices = [18229, 354, 10182, 16544, 5008, 5231, 10707, 1936, 13391,\n",
    "                     16914, 10547, 10299, 11179, 16280, 5897, 89, 8677, 2154,\n",
    "                     15972]\n",
    "\n",
    "# Filtrando os registros especificados e seus tópicos dominantes\n",
    "registros_selecionados = df.loc[registros_indices, ['description', 'topic']]\n",
    "\n",
    "# Exibindo os resultados\n",
    "print(registros_selecionados)"
   ]
  },
  {
   "cell_type": "markdown",
   "metadata": {},
   "source": [
    "Nota-se os tópicos 1 e 4 são dominantes, algo já teorizado."
   ]
  },
  {
   "cell_type": "markdown",
   "metadata": {},
   "source": [
    "#### Análise de Distribuição dos Termos "
   ]
  },
  {
   "cell_type": "code",
   "execution_count": 26,
   "metadata": {},
   "outputs": [],
   "source": [
    "def get_indices_with_water_terms(df):\n",
    "    # Filtrar registros com qualquer contagem de termos relacionados à água maior que 0\n",
    "    filtered_df = df[(df['original_water_term_count'] > 0) | (df['altered_water_term_count'] > 0)]\n",
    "    # Retornar os índices desses registros\n",
    "    return filtered_df.index.tolist()\n"
   ]
  },
  {
   "cell_type": "code",
   "execution_count": 27,
   "metadata": {},
   "outputs": [
    {
     "name": "stdout",
     "output_type": "stream",
     "text": [
      "Índices com termos relacionados à água: [43, 89, 134, 354, 368, 381, 575, 590, 595, 781, 844, 964, 1061, 1137, 1143, 1365, 1417, 1509, 1532, 1538, 1539, 1604, 1606, 1726, 1739, 1854, 1936, 2040, 2063, 2096, 2179, 2258, 2452, 2705, 2917, 3072, 3102, 3126, 3181, 3258, 3411, 3502, 3610, 3623, 3671, 3688, 3729, 3844, 3864, 4090, 4118, 4123, 4148, 4400, 4447, 4628, 4730, 4753, 4786, 4843, 4847, 4850, 4925, 4930, 4937, 4969, 4989, 5008, 5034, 5163, 5231, 5299, 5472, 5532, 5799, 5842, 5897, 5905, 5953, 5968, 6177, 6191, 6225, 6317, 6347, 6432, 6448, 6469, 6604, 6767, 6850, 7087, 7097, 7143, 7148, 7167, 7592, 7707, 7784, 7822, 7832, 7901, 8083, 8261, 8351, 8357, 8473, 8481, 8677, 8746, 8999, 9799, 10124, 10170, 10182, 10216, 10279, 10295, 10298, 10299, 10311, 10316, 10413, 10414, 10484, 10489, 10547, 10575, 10605, 10663, 10707, 10760, 10896, 10898, 10997, 11018, 11178, 11440, 11532, 11546, 11549, 11944, 12049, 12084, 12085, 12097, 12193, 12216, 12238, 12403, 12481, 12538, 12564, 12635, 12766, 13014, 13055, 13183, 13211, 13316, 13362, 13384, 13391, 13607, 13661, 13693, 13708, 13721, 13791, 13990, 14029, 14334, 14344, 14386, 14411, 14424, 14483, 14550, 14641, 14778, 14847, 14942, 14971, 15046, 15070, 15072, 15109, 15115, 15316, 15350, 15403, 15526, 15551, 15581, 15676, 15823, 15947, 15972, 16106, 16123, 16186, 16280, 16544, 16570, 16638, 16647, 16687, 16756, 16792, 16812, 16914, 16937, 16967, 17120, 17232, 17247, 17302, 17549, 17551, 17640, 17819, 17853, 17856, 17976, 18013, 18142, 18177, 18229, 18330, 18344, 18639, 18697, 18731, 18841, 18842, 19017, 19018, 19075, 19125, 19158, 19215, 19306, 19307]\n"
     ]
    }
   ],
   "source": [
    "# Uso da função\n",
    "indices_with_water_terms = get_indices_with_water_terms(df)\n",
    "print(f\"Índices com termos relacionados à água: {indices_with_water_terms}\")"
   ]
  },
  {
   "cell_type": "code",
   "execution_count": 28,
   "metadata": {},
   "outputs": [],
   "source": [
    "def count_docs_by_topic_with_water_terms(df):\n",
    "    # Filtrar registros com qualquer contagem de termos relacionados à água maior que 0\n",
    "    filtered_df = df[(df['original_water_term_count'] > 0) | (df['altered_water_term_count'] > 0)]\n",
    "    # Agrupar os registros filtrados por tópico e contar os registros em cada grupo\n",
    "    topic_counts = filtered_df.groupby('topic').size()\n",
    "    return topic_counts\n"
   ]
  },
  {
   "cell_type": "code",
   "execution_count": 29,
   "metadata": {},
   "outputs": [
    {
     "name": "stdout",
     "output_type": "stream",
     "text": [
      "Quantidade de Documentos por Tópico (com termos relacionados à água):\n",
      "topic\n",
      "1    129\n",
      "2     40\n",
      "4     74\n",
      "dtype: int64\n"
     ]
    }
   ],
   "source": [
    "docs_by_topic_with_water_terms = count_docs_by_topic_with_water_terms(df)\n",
    "print(\"Quantidade de Documentos por Tópico (com termos relacionados à água):\")\n",
    "print(docs_by_topic_with_water_terms)\n"
   ]
  },
  {
   "cell_type": "code",
   "execution_count": 30,
   "metadata": {},
   "outputs": [],
   "source": [
    "\n",
    "def sample_indices_with_water_by_topic(df, sample_size=1):\n",
    "    # Filtrar registros com a ocorrência do termo \"water\"\n",
    "    df_with_water = df[df['altered_water_term_count'] > 0]\n",
    "    # Verificar se há grupos com menos registros do que o sample_size desejado\n",
    "    group_sizes = df_with_water.groupby('topic').size()\n",
    "    min_size = group_sizes.min()\n",
    "    if min_size < sample_size:\n",
    "        print(f\"Aviso: Um ou mais grupos têm menos registros do que o sample_size desejado ({sample_size}). Reduzindo sample_size para {min_size}.\")\n",
    "        sample_size = min_size\n",
    "    # Agrupar por tópico e pegar uma amostra de cada\n",
    "    sampled_indices = df_with_water.groupby('topic').apply(lambda x: x.sample(n=sample_size, random_state=1)).index.get_level_values(1)\n",
    "    return sampled_indices"
   ]
  },
  {
   "cell_type": "code",
   "execution_count": 31,
   "metadata": {},
   "outputs": [
    {
     "name": "stdout",
     "output_type": "stream",
     "text": [
      "Índice: 18177, Tópico: 1, Descrição: earth smart offer eco friendly calgary agriculture solution gardening solution lawn care solution li...\n",
      "Índice: 16186, Tópico: 1, Descrição: code4armourâ„¢ medical band speak emergency design autism parkinson epilepsy follow pre launch offer...\n",
      "Índice: 590, Tópico: 2, Descrição: taphax real time water consumption tool save money promote sustainable lifestyle address intangibili...\n",
      "Índice: 10997, Tópico: 2, Descrição: feel uneasy navigate new water want know friendâ€ ™ s location look good place launch boat anchor ni...\n",
      "Índice: 8261, Tópico: 4, Descrição: water proofing foundation parkade concrete wood structure 25 year coating water proofing experience ...\n",
      "Índice: 15115, Tópico: 4, Descrição: petrojet oilfield service company thirty year experience place ultra short radius lateral oil gas re...\n"
     ]
    }
   ],
   "source": [
    "# Obtenção dos principais dados para análise qualitativa inicial. Tópico vs Análise da descrição\n",
    "sampled_indices = sample_indices_with_water_by_topic(df, sample_size=2)\n",
    "for index in sampled_indices:\n",
    "    print(f\"Índice: {index}, Tópico: {df.at[index, 'topic']}, Descrição: {df.at[index, 'clean_description'][:100]}...\")"
   ]
  },
  {
   "cell_type": "code",
   "execution_count": 32,
   "metadata": {},
   "outputs": [],
   "source": [
    "def show_clean_description_by_index(df, index):\n",
    "    # Verificar se o índice existe no DataFrame\n",
    "    if index in df.index:\n",
    "        # Retornar a descrição limpa para o índice fornecido\n",
    "        return df.at[index, 'clean_description']\n",
    "    else:\n",
    "        # Mensagem de erro se o índice não for encontrado\n",
    "        return \"Índice não encontrado no DataFrame.\"\n"
   ]
  },
  {
   "cell_type": "code",
   "execution_count": 33,
   "metadata": {},
   "outputs": [
    {
     "name": "stdout",
     "output_type": "stream",
     "text": [
      "Descrição Limpa para o Índice 4367:\n",
      "vayoola bear enable crowdfunder focus 100 cultivate awesome product idea fund reality happen weâ€ ™ develop self serve technology ease burden crowdfunding project promotion\n"
     ]
    }
   ],
   "source": [
    "# Visualiza a descrção completa\n",
    "index = 4367 \n",
    "clean_description = show_clean_description_by_index(df, index)\n",
    "print(f\"Descrição Limpa para o Índice {index}:\")\n",
    "print(clean_description)"
   ]
  },
  {
   "cell_type": "markdown",
   "metadata": {},
   "source": [
    "##### Análise para Busca de Novos Termos"
   ]
  },
  {
   "cell_type": "code",
   "execution_count": 34,
   "metadata": {},
   "outputs": [
    {
     "name": "stdout",
     "output_type": "stream",
     "text": [
      "Índice: 43, Descrição: \"for people on the go who want to have easy access to small items like pens and earbuds, the kombine...\n",
      "Índice: 381, Descrição: \"our electronic road flare (eb 300 ) is powered by ultra-bright leds that are specialized for roadsi...\n",
      "Índice: 590, Descrição: taphax is a real time water consumption tool to save money and promote a sustainable lifestyle to ad...\n",
      "Índice: 1143, Descrição: \"employ everyone is a platform for all self-employees in your community. this is the first place you...\n",
      "Índice: 1365, Descrição: \"ontarieau is currently the only local brand of sparkling water from ontario. our primary competitio...\n",
      "Índice: 1604, Descrição: \"nise building a smart-kitchen ecosystem by enabling parents, foodies, and busy professionals to aut...\n",
      "Índice: 2179, Descrição: \"splashcheck is a smart device you leave in your pool or hot tub that monitors the chemical balance ...\n",
      "Índice: 2452, Descrição: goldoon the world's first learning and smart self-watering planter goldoon is for all the people who...\n",
      "Índice: 3072, Descrição: \"best wings and ribs.. with more than 200+ flavours of wings, 20 different types of burgers, 28 gour...\n",
      "Índice: 3411, Descrição: \"sol fruit bar is a specialty, fruit retail store that offers a modern andÂ unique approach to a hea...\n",
      "Índice: 3729, Descrição: \"gourmet flavour in a casual setting. delicious, local organic ingredients. a glass of wine or beer ...\n",
      "Índice: 4753, Descrição: \"steam puts the smart into water heating. water heating is inefficient and around 18% of energy bill...\n",
      "Índice: 4850, Descrição: \"i confess. i am a 'fountain spotter'. exciting hobby eh? somehow, i became terribly fascinated with...\n",
      "Índice: 4925, Descrição: \"setter is a home service that takes care of your home maintenance and repairs. it's like having the...\n",
      "Índice: 4989, Descrição: \"do you own a swimming pool and worry about its time-to-time cleaning? magic pools comes forth provi...\n",
      "Índice: 5299, Descrição: \"carnivore club is the world's first subscription service to discover premium artisan cured meats, d...\n",
      "Índice: 5472, Descrição: \"rede tech is an early stage technology start up dedicated to developing smarter, connected devices ...\n",
      "Índice: 5532, Descrição: \"a health concious alcohol beverage with a new inovative lid that allows consumers to mix a fresh fl...\n",
      "Índice: 6177, Descrição: \"we venture to bring originally designed art prints, greeting cards, paper products and home decor p...\n",
      "Índice: 6767, Descrição: \"starting with our first product, a vanilla protein powder that you just add water to, we plan on ex...\n",
      "Índice: 6850, Descrição: \"we are a private swimming lesson company providing lessons for all ages, levels and abilities. our ...\n",
      "Índice: 7143, Descrição: \"if you care about eating local organic food, you are going to love this! green thumb technology has...\n",
      "Índice: 7592, Descrição: \"we are making one-size-fits-all wireless earbuds. this is unique because no one thought this was ac...\n",
      "Índice: 7822, Descrição: \"our product is a simple, effective and free appreciation tool. it allows you to send instant gifts ...\n",
      "Índice: 7832, Descrição: \"jellybeen is the urban momâ€™s secret weapon for finding hidden gems in her city. jellybeen connect...\n",
      "Índice: 8999, Descrição: the cable park eliminates the need for a boat by pulling the rider along the water on a cable pull s...\n",
      "Índice: 9799, Descrição: \"leanin allows viewers to add comments to the timeline of an online video (patent pending). comments...\n",
      "Índice: 10279, Descrição: \"sol fruit bar is a specialty, fruit retail store that offers a modern and unique approach to a heal...\n",
      "Índice: 10414, Descrição: \"the first wireless residential splash pad. connect your garden hose to the esplash and let your kid...\n",
      "Índice: 10484, Descrição: \"toronto pho is a wonderful place to eat combining a warm casual atmosphere with exciting menu inclu...\n",
      "Índice: 10575, Descrição: \"for thousands of years, honey and water has been used as a traditional health drink throughout the ...\n",
      "Índice: 10997, Descrição: \"ever felt uneasy navigating new waters? wanted to know a friendâ€™s location? or looking for the be...\n",
      "Índice: 15316, Descrição: jubilee pool is the ideal venue for a wide range of activities- not all of them in the water. the po...\n",
      "Índice: 15676, Descrição: \"splashtones is redefining architecture with interactive aquatic technology. our flagship product, t...\n",
      "Índice: 15823, Descrição: \"dream water is the fast acting, non-prescription, zero calorie way to sleep naturally. first launch...\n",
      "Índice: 15947, Descrição: \"mobile klinik is canadaâ€™s go-to store for quick, professional cell phone repair that lasts. in mo...\n",
      "Índice: 16280, Descrição: \"homebeaver is an innovative new automation system that lets you control your home's water from anyw...\n",
      "Índice: 16544, Descrição: \"our vision is to create a cost effective, technologically advanced, and uniquely designed water dis...\n",
      "Índice: 18229, Descrição: \"greenlife water is the leading provider of water filtration systems in the ontario area. we help ma...\n",
      "Índice: 18842, Descrição: \"relish gourmet burgers! they zag when everyone else zigs! the first thing you'll notice when you wa...\n"
     ]
    }
   ],
   "source": [
    "# Filtrar registros que pertencem ao Tópico 4 e têm termos relacionados à água\n",
    "filtered_df = df[(df['topic'] == 2) & ((df['original_water_term_count'] > 0) | (df['altered_water_term_count'] > 0))]\n",
    "\n",
    "# Exibir índice e descrição desses registros\n",
    "for index, row in filtered_df.iterrows():\n",
    "    print(f\"Índice: {index}, Descrição: {row['description'][:100]}...\")\n",
    "    # Use 'row['clean_description']' se preferir usar a descrição limpa"
   ]
  },
  {
   "cell_type": "code",
   "execution_count": 35,
   "metadata": {},
   "outputs": [],
   "source": [
    "# Lista de termos relacionados ao tratamento de água conforme o exercício\n",
    "original_water_terms = [\"waste and water\", \"water quality\", \"water efficiency\", \n",
    "                        \"water contamination\", \"human consumption\", \"water resources\"]\n",
    "\n",
    "altered_water_terms = original_water_terms + ['water']\n",
    "\n",
    "extended_water_terms = original_water_terms + [\"water treatment\", \"clear water\", \"water consumption\",\n",
    "                                               \"water purification\", \"filtered water\", \"drinking water\",\n",
    "                                               \"water recycling\", \"treat wastewater\", \"treat the wastewater\",\n",
    "                                               \"wastewater treatment\" \"water filtration\", \"water analysis\"]\n",
    "# Aplicar a função ao DataFrame\n",
    "df['extended_water_term_count'] = df['clean_description'].apply(lambda x: count_water_terms(x, extended_water_terms))\n"
   ]
  },
  {
   "cell_type": "markdown",
   "metadata": {},
   "source": [
    "##### Análises com os Termos Extendidos"
   ]
  },
  {
   "cell_type": "code",
   "execution_count": 36,
   "metadata": {},
   "outputs": [
    {
     "name": "stdout",
     "output_type": "stream",
     "text": [
      "<class 'pandas.core.frame.DataFrame'>\n",
      "Index: 20 entries, 14550 to 3688\n",
      "Data columns (total 13 columns):\n",
      " #   Column                     Non-Null Count  Dtype \n",
      "---  ------                     --------------  ----- \n",
      " 0   name                       20 non-null     object\n",
      " 1   description                20 non-null     object\n",
      " 2   employees                  20 non-null     object\n",
      " 3   total_funding              20 non-null     object\n",
      " 4   city                       20 non-null     object\n",
      " 5   subcountry                 20 non-null     object\n",
      " 6   lat                        20 non-null     object\n",
      " 7   lng                        20 non-null     object\n",
      " 8   clean_description          20 non-null     object\n",
      " 9   original_water_term_count  20 non-null     int64 \n",
      " 10  altered_water_term_count   20 non-null     int64 \n",
      " 11  topic                      20 non-null     int64 \n",
      " 12  extended_water_term_count  20 non-null     int64 \n",
      "dtypes: int64(4), object(9)\n",
      "memory usage: 2.2+ KB\n"
     ]
    }
   ],
   "source": [
    "# Visualizando as descrições com maior contagem de termos originais\n",
    "top_water_descriptions = df.sort_values(by='extended_water_term_count', ascending=False).head(20)\n",
    "#print(top_water_descriptions[['description', 'extended_water_term_count']])\n",
    "top_water_descriptions.info()"
   ]
  },
  {
   "cell_type": "code",
   "execution_count": 37,
   "metadata": {},
   "outputs": [
    {
     "name": "stdout",
     "output_type": "stream",
     "text": [
      "Distribuição dos Registros com Termos Estendidos por Tópico:\n",
      "topic\n",
      "1    33\n",
      "2     6\n",
      "4    10\n",
      "dtype: int64\n"
     ]
    }
   ],
   "source": [
    "# Filtrar registros com termos estendidos relacionados à água\n",
    "df_with_extended_terms = df[df['extended_water_term_count'] > 0]\n",
    "\n",
    "# Agrupar esses registros por tópico e contar os registros em cada grupo\n",
    "topic_distribution = df_with_extended_terms.groupby('topic').size()\n",
    "\n",
    "print(\"Distribuição dos Registros com Termos Estendidos por Tópico:\")\n",
    "print(topic_distribution)"
   ]
  },
  {
   "cell_type": "markdown",
   "metadata": {},
   "source": [
    "##### Análise Qualitativa dos Termos Associados aos Principais Tópicos"
   ]
  },
  {
   "cell_type": "code",
   "execution_count": 38,
   "metadata": {},
   "outputs": [
    {
     "name": "stdout",
     "output_type": "stream",
     "text": [
      "Amostra de Descrições no Tópico 1:\n",
      "- \"inspired by nature, our mission at loonskin labs is to provide the conditions for dynamic, inorganic structures to self assemble in useful ways. we have developed the world's first platform manufacturing technique that uses fluid dynamics to grow synthetic circulatory systems rapidly into silicone membranes. we can now create flexible, durable, flat delivery systems, to exchange heat or fluids, filter materials, or create fractal reinforced light weight structures. our first application is in wearable circulatory systems for personal climate control.our product will prevent heat stroke in athletes, treat burn wounds, and prevent bed sore development. we can also employ our technology in heat capture, water purification, and energy storage. we also plan on selling the equipment to manufacture to consumers under a creative commons license to enable people everywhere to use this groundbreaking, platform, patent-pending technology.\"\n",
      "\n",
      "- \"swirltex has developed a membrane filtration system for treating wastewater.the swirltex lagoon unit (slu) has potential to be transformative for municipalities reliant on lagoon systems as well as for industrial applications. wastewater has traditionally been difficult to treat through membrane filtration due to surface fouling by pollutants. the slu overcomes fouling by creating a centrifugal flow pattern, preventing contaminants from contacting the tubular membrane, thus creating a much more effective system.swirltex will sell the service of treated water per unit volume. it is an affordable option for smaller centers that cannot afford large capital outlays and creates marketable reuse water. the initial target market is municipalities at risk of environmental non-compliance. for the future, swirltex will be developing oil and gas applications. our goal is to supply the market demand for recycled industrial water, which will continue to grow with increasing regulatory pressures.\"\n",
      "\n",
      "- \"z3 controls inc.is an advanced energy technology company, focusing on analytics, marketing and sales of energy monitoring, measurement and data-logging information systems, and specializing in enabling energy-efficient solutions. z3 controls singularity of purpose is to decrease energy consumption, save money and reduce the carbon footprint in the following segments and sub-segments: :segments: industrial, commercial, institutional and municipal sub-segments: automotive, paper mills, plastics, metallurgical, mines, motors etc. as well as food and beverage, government and critical infrastructure (water/waste water/water treatment) and gas.\"\n",
      "\n",
      "- zenon environmental is a water treatment company engaged in manufacture and sale of membrane-based wastewater treatment systems.\n",
      "\n",
      "- newterra provides decentralized water and wastewater treatment solutions. newterra is opening up new possibilities for decentralized water treatment with redeployable systems. our modular â€œplug & playâ€ solutions can be located virtually anywhere and be scaled up and down in parallel with capacity requirements.\n",
      "\n",
      "Amostra de Descrições no Tópico 4:\n",
      "- \"fer-pal infrastructure is proud to offer a cement mortar lining solution that improves the best quality of water. the team is pleased to provide excellent services that help to maintain good functional pipes for your water sanitation. through the expertise of their engineers, they bring you their cement mortar lining solution that makes sure to give you water that is beneficial to everyone. the clear water is free of odor, poor color, unpleasant taste, and turbidity. their cement mortar lining solution also can self-heal and seal cracks, which may occur during initial setting shrinkage. for years, their services have trusted by their clients, and when you work with them, you can expect to have the best sanitation of your water. for inquiries, call them at +1 416-742-3713 or check their website. you may also visit their office located at 171 fenmar drive toronto, ontario.\"\n",
      "\n",
      "- \"island water technologies inc. is a prince edward island based company specializing in modular, energy efficient waste water treatment.\"\n",
      "\n",
      "- \"fti foodtech international inc. (fti) is engaged in the business of the resale of liquidation merchandise. the company exchanges goods on barter exchanges, such as the trade business exchange and the certificate club for which transactions are tendered using barter exchange dollars (barter credits). the company has the north american distribution rights for globalex global chlorine dioxide water purification tablets, which include the tablets marketed under the trade names, oxytab, pooltab, cleantab, steritab and airtab that have a range of application ranging from drinking water, swimming, industrial sanitation, pest control, as well as various application in the gas and mining industry. collapse\"\n",
      "\n",
      "- \"tablâ€™eau filtered water provides exceptional drinking water while advocating sustainability. tablâ€™eau enables the purification of source (tap) water using state-of-the-art filtration systems to produce premium quality ambient, chilled, still and sparkling water. the tablâ€™eau solution facilitates the elimination of bottled water, including the carbon footprint from packaging, transport and recycling of water bottles. collapse\"\n",
      "\n",
      "- \"the group currently operates mainly in the five business areas of aircraft, special purpose trucks, fluid (water treatment equipment), industrial machinery systems, and parking systems, with the entire group working in concert to cover everything from production through after-sales services.\"\n",
      "\n"
     ]
    }
   ],
   "source": [
    "# Extraindo uma amostra das descrições dos registros no Tópico 1 com termos estendidos\n",
    "topic_1_samples = df[(df['topic'] == 1) & (df['extended_water_term_count'] > 0)]['description'].sample(n=min(5, len(df[(df['topic'] == 1) & (df['extended_water_term_count'] > 0)])), random_state=1)\n",
    "\n",
    "print(\"Amostra de Descrições no Tópico 1:\")\n",
    "for desc in topic_1_samples:\n",
    "    print(f\"- {desc}\\n\")\n",
    "\n",
    "# Extraindo uma amostra das descrições dos registros no Tópico 4 com termos estendidos\n",
    "topic_4_samples = df[(df['topic'] == 4) & (df['extended_water_term_count'] > 0)]['description'].sample(n=min(5, len(df[(df['topic'] == 4) & (df['extended_water_term_count'] > 0)])), random_state=1)\n",
    "\n",
    "print(\"Amostra de Descrições no Tópico 4:\")\n",
    "for desc in topic_4_samples:\n",
    "    print(f\"- {desc}\\n\")\n"
   ]
  },
  {
   "cell_type": "markdown",
   "metadata": {},
   "source": [
    "Identificados os seguintes comportamentos:  \n",
    "Tópico 1 (Tratamento de Água e Aplicações Relacionadas):  \n",
    "**Tratamento de Água**: Existem descrições que mencionam explicitamente o tratamento de água ou purificação, como a \"Swirltex\" desenvolvendo sistemas de filtração de membrana para tratamento de águas residuais e a \"Zenon Environmental\" focada em sistemas de tratamento de água baseados em membranas.  \n",
    "**Aplicações Inovadoras**: Algumas empresas estão aplicando tecnologias inovadoras ao tratamento de água, como a \"Loonskin Labs\" com sistemas circulatórios sintéticos para controle climático pessoal e aplicações em purificação de água.  \n",
    "**Soluções Descentralizadas**: A \"Newterra\" oferece soluções descentralizadas para tratamento de água e águas residuais, indicando uma abordagem modular e escalável.  \n",
    "  \n",
    "Tópico 4 (Soluções de Infraestrutura e Eficiência Hídrica):  \n",
    "**Melhoria da Qualidade da Água**: A \"Fer-Pal Infrastructure\" oferece soluções para melhorar a qualidade da água, indicando um foco em infraestrutura e manutenção de sistemas hídricos.  \n",
    "**Sustentabilidade e Purificação**: A \"Tabl'eau Filtered Water\" promove a sustentabilidade através da purificação da água da torneira, reduzindo a necessidade de água engarrafada.  \n",
    "**Diversidade de Aplicações**: Algumas descrições, como a do \"FTI Foodtech International Inc.\", mencionam aplicações diversificadas de purificação de água, desde consumo até uso industrial.  \n"
   ]
  },
  {
   "cell_type": "markdown",
   "metadata": {},
   "source": [
    "### Salva Dataframe com Dados Inferidos"
   ]
  },
  {
   "cell_type": "code",
   "execution_count": 39,
   "metadata": {},
   "outputs": [],
   "source": [
    "# Salvar os dados processados para intercâmbio com outros testes se for o caso\n",
    "df.to_parquet(FULL_DATA_FILE_NAME)"
   ]
  },
  {
   "cell_type": "markdown",
   "metadata": {},
   "source": [
    "### Criação do Modelo - Exercício 1"
   ]
  },
  {
   "cell_type": "markdown",
   "metadata": {},
   "source": [
    "#### Seleção de Amostra para Rotulagem"
   ]
  },
  {
   "cell_type": "markdown",
   "metadata": {},
   "source": [
    "Usar o código abaixo para gerar novas amostras, senão usar o arquivo já salvo (caso ja'tenha sido gerado)"
   ]
  },
  {
   "cell_type": "code",
   "execution_count": 40,
   "metadata": {},
   "outputs": [],
   "source": [
    "# Seleção de amostra de registros relevantes\n",
    "#relevant_samples = df[df['extended_water_term_count'] > 0].sample(n=20, random_state=1)\n",
    "# Seleção de amostra de registros não relevantes\n",
    "#non_relevant_samples = df[df['extended_water_term_count'] == 0].sample(n=20, random_state=1)\n",
    "# Combine as amostras em um DataFrame para rotulagem\n",
    "#samples_for_labeling = pd.concat([relevant_samples, non_relevant_samples])\n",
    "# Exibir os índices das amostras selecionadas para revisão e rotulagem manual\n",
    "#print(samples_for_labeling.index.tolist())"
   ]
  },
  {
   "cell_type": "markdown",
   "metadata": {},
   "source": [
    "#### Análise das descrições para rotulação"
   ]
  },
  {
   "cell_type": "code",
   "execution_count": 41,
   "metadata": {},
   "outputs": [],
   "source": [
    "# Exportação da amostra para visualização em editor\n",
    "\n",
    "# Filtra registros pela lista de índices\n",
    "#df_selected = df.loc[samples_for_labeling.index.tolist(), ['description']]\n",
    "# Exportar para CSV\n",
    "#df_selected.to_csv(ROOT_DIR / SOURCE_SUBDIR / 'descricoes_selecionadas.csv', index=True)"
   ]
  },
  {
   "cell_type": "code",
   "execution_count": 42,
   "metadata": {},
   "outputs": [],
   "source": [
    "# Leitura das amostras previamente geradas\n",
    "df_selected = pd.read_csv(ROOT_DIR / SOURCE_SUBDIR / 'descricoes_selecionadas.csv', index_col=0)"
   ]
  },
  {
   "cell_type": "code",
   "execution_count": 43,
   "metadata": {},
   "outputs": [
    {
     "data": {
      "text/html": [
       "<div>\n",
       "<style scoped>\n",
       "    .dataframe tbody tr th:only-of-type {\n",
       "        vertical-align: middle;\n",
       "    }\n",
       "\n",
       "    .dataframe tbody tr th {\n",
       "        vertical-align: top;\n",
       "    }\n",
       "\n",
       "    .dataframe thead th {\n",
       "        text-align: right;\n",
       "    }\n",
       "</style>\n",
       "<table border=\"1\" class=\"dataframe\">\n",
       "  <thead>\n",
       "    <tr style=\"text-align: right;\">\n",
       "      <th></th>\n",
       "      <th>description</th>\n",
       "    </tr>\n",
       "  </thead>\n",
       "  <tbody>\n",
       "    <tr>\n",
       "      <th>10547</th>\n",
       "      <td>\"fer-pal infrastructure is proud to offer a ce...</td>\n",
       "    </tr>\n",
       "    <tr>\n",
       "      <th>13014</th>\n",
       "      <td>\"vista credit corp is a residential equipment ...</td>\n",
       "    </tr>\n",
       "    <tr>\n",
       "      <th>15046</th>\n",
       "      <td>purlucid treatment solutions is a cutting-edge...</td>\n",
       "    </tr>\n",
       "    <tr>\n",
       "      <th>19306</th>\n",
       "      <td>\"h2o innovation is known for its state of the ...</td>\n",
       "    </tr>\n",
       "    <tr>\n",
       "      <th>590</th>\n",
       "      <td>taphax is a real time water consumption tool t...</td>\n",
       "    </tr>\n",
       "    <tr>\n",
       "      <th>1417</th>\n",
       "      <td>\"the group currently operates mainly in the fi...</td>\n",
       "    </tr>\n",
       "    <tr>\n",
       "      <th>16123</th>\n",
       "      <td>\"acuva technologies is developing ultraviolet ...</td>\n",
       "    </tr>\n",
       "    <tr>\n",
       "      <th>10663</th>\n",
       "      <td>\"provider of water data analysis software inte...</td>\n",
       "    </tr>\n",
       "    <tr>\n",
       "      <th>18177</th>\n",
       "      <td>\"earth smart offers eco friendly calgary agric...</td>\n",
       "    </tr>\n",
       "    <tr>\n",
       "      <th>11018</th>\n",
       "      <td>\"4deep inwater imaging is a privately owned, h...</td>\n",
       "    </tr>\n",
       "    <tr>\n",
       "      <th>11546</th>\n",
       "      <td>\"saltworks technologies treats the toughest wa...</td>\n",
       "    </tr>\n",
       "    <tr>\n",
       "      <th>14641</th>\n",
       "      <td>zenon environmental is a water treatment compa...</td>\n",
       "    </tr>\n",
       "    <tr>\n",
       "      <th>6469</th>\n",
       "      <td>\"texers inc. is a growing international techni...</td>\n",
       "    </tr>\n",
       "    <tr>\n",
       "      <th>13391</th>\n",
       "      <td>\"tablâ€™eau filtered water provides exceptiona...</td>\n",
       "    </tr>\n",
       "    <tr>\n",
       "      <th>6177</th>\n",
       "      <td>\"we venture to bring originally designed art p...</td>\n",
       "    </tr>\n",
       "    <tr>\n",
       "      <th>15972</th>\n",
       "      <td>\"the solution that oneka developed takes the r...</td>\n",
       "    </tr>\n",
       "    <tr>\n",
       "      <th>13693</th>\n",
       "      <td>\"livestock water recycling is the worldâ€™s le...</td>\n",
       "    </tr>\n",
       "    <tr>\n",
       "      <th>10311</th>\n",
       "      <td>\"the product is a software that works on cell ...</td>\n",
       "    </tr>\n",
       "    <tr>\n",
       "      <th>7097</th>\n",
       "      <td>\"our inflatable grow bed systems form a channe...</td>\n",
       "    </tr>\n",
       "    <tr>\n",
       "      <th>4786</th>\n",
       "      <td>\"aquatic informatics provides leading software...</td>\n",
       "    </tr>\n",
       "    <tr>\n",
       "      <th>16565</th>\n",
       "      <td>\"founded in 2013, acquisition glacier ii opera...</td>\n",
       "    </tr>\n",
       "    <tr>\n",
       "      <th>5516</th>\n",
       "      <td>\"mod-ified is one of the leading stores for ne...</td>\n",
       "    </tr>\n",
       "    <tr>\n",
       "      <th>10729</th>\n",
       "      <td>\"eq offices based in the heart of downtown tor...</td>\n",
       "    </tr>\n",
       "    <tr>\n",
       "      <th>9792</th>\n",
       "      <td>\"collabvillage lets you create your online vis...</td>\n",
       "    </tr>\n",
       "    <tr>\n",
       "      <th>8552</th>\n",
       "      <td>\"aikiou products helps pets with weight, anxie...</td>\n",
       "    </tr>\n",
       "    <tr>\n",
       "      <th>5526</th>\n",
       "      <td>garage is a shared parking app that lets peopl...</td>\n",
       "    </tr>\n",
       "    <tr>\n",
       "      <th>13913</th>\n",
       "      <td>\"vitasave is 100% canadian and is located in n...</td>\n",
       "    </tr>\n",
       "    <tr>\n",
       "      <th>17247</th>\n",
       "      <td>\"furnace ac direct specializes in residential ...</td>\n",
       "    </tr>\n",
       "    <tr>\n",
       "      <th>4367</th>\n",
       "      <td>vayoola was born to enable crowdfunders to foc...</td>\n",
       "    </tr>\n",
       "    <tr>\n",
       "      <th>11252</th>\n",
       "      <td>\"guarana est une agence web spÃ©cialisÃ©e en s...</td>\n",
       "    </tr>\n",
       "    <tr>\n",
       "      <th>8121</th>\n",
       "      <td>\"savvydox goes beyond storage using the cloud ...</td>\n",
       "    </tr>\n",
       "    <tr>\n",
       "      <th>8287</th>\n",
       "      <td>\"mighty clean ducts ltd. has been providing th...</td>\n",
       "    </tr>\n",
       "    <tr>\n",
       "      <th>15625</th>\n",
       "      <td>\"ov2 investment 1 inc is a canada-based capita...</td>\n",
       "    </tr>\n",
       "    <tr>\n",
       "      <th>8246</th>\n",
       "      <td>\"swish labs designs and develops innovative mo...</td>\n",
       "    </tr>\n",
       "    <tr>\n",
       "      <th>8314</th>\n",
       "      <td>\"we are creating a cloud based web application...</td>\n",
       "    </tr>\n",
       "    <tr>\n",
       "      <th>12045</th>\n",
       "      <td>i believe that it is my purpose to create. i c...</td>\n",
       "    </tr>\n",
       "    <tr>\n",
       "      <th>8901</th>\n",
       "      <td>\"making a website should be fun. it should be ...</td>\n",
       "    </tr>\n",
       "    <tr>\n",
       "      <th>1847</th>\n",
       "      <td>\" ri-go lift truck ltd. offers you their cours...</td>\n",
       "    </tr>\n",
       "    <tr>\n",
       "      <th>8596</th>\n",
       "      <td>\"startup to mid-sized companies often struggle...</td>\n",
       "    </tr>\n",
       "    <tr>\n",
       "      <th>10109</th>\n",
       "      <td>\"workstation health is a complete office ergon...</td>\n",
       "    </tr>\n",
       "  </tbody>\n",
       "</table>\n",
       "</div>"
      ],
      "text/plain": [
       "                                             description\n",
       "10547  \"fer-pal infrastructure is proud to offer a ce...\n",
       "13014  \"vista credit corp is a residential equipment ...\n",
       "15046  purlucid treatment solutions is a cutting-edge...\n",
       "19306  \"h2o innovation is known for its state of the ...\n",
       "590    taphax is a real time water consumption tool t...\n",
       "1417   \"the group currently operates mainly in the fi...\n",
       "16123  \"acuva technologies is developing ultraviolet ...\n",
       "10663  \"provider of water data analysis software inte...\n",
       "18177  \"earth smart offers eco friendly calgary agric...\n",
       "11018  \"4deep inwater imaging is a privately owned, h...\n",
       "11546  \"saltworks technologies treats the toughest wa...\n",
       "14641  zenon environmental is a water treatment compa...\n",
       "6469   \"texers inc. is a growing international techni...\n",
       "13391  \"tablâ€™eau filtered water provides exceptiona...\n",
       "6177   \"we venture to bring originally designed art p...\n",
       "15972  \"the solution that oneka developed takes the r...\n",
       "13693  \"livestock water recycling is the worldâ€™s le...\n",
       "10311  \"the product is a software that works on cell ...\n",
       "7097   \"our inflatable grow bed systems form a channe...\n",
       "4786   \"aquatic informatics provides leading software...\n",
       "16565  \"founded in 2013, acquisition glacier ii opera...\n",
       "5516   \"mod-ified is one of the leading stores for ne...\n",
       "10729  \"eq offices based in the heart of downtown tor...\n",
       "9792   \"collabvillage lets you create your online vis...\n",
       "8552   \"aikiou products helps pets with weight, anxie...\n",
       "5526   garage is a shared parking app that lets peopl...\n",
       "13913  \"vitasave is 100% canadian and is located in n...\n",
       "17247  \"furnace ac direct specializes in residential ...\n",
       "4367   vayoola was born to enable crowdfunders to foc...\n",
       "11252  \"guarana est une agence web spÃ©cialisÃ©e en s...\n",
       "8121   \"savvydox goes beyond storage using the cloud ...\n",
       "8287   \"mighty clean ducts ltd. has been providing th...\n",
       "15625  \"ov2 investment 1 inc is a canada-based capita...\n",
       "8246   \"swish labs designs and develops innovative mo...\n",
       "8314   \"we are creating a cloud based web application...\n",
       "12045  i believe that it is my purpose to create. i c...\n",
       "8901   \"making a website should be fun. it should be ...\n",
       "1847   \" ri-go lift truck ltd. offers you their cours...\n",
       "8596   \"startup to mid-sized companies often struggle...\n",
       "10109  \"workstation health is a complete office ergon..."
      ]
     },
     "execution_count": 43,
     "metadata": {},
     "output_type": "execute_result"
    }
   ],
   "source": [
    "df_selected"
   ]
  },
  {
   "cell_type": "code",
   "execution_count": 44,
   "metadata": {},
   "outputs": [],
   "source": [
    "suggested_labels = [\n",
    "    (10547, \"Relevante\"),\n",
    "    (13014, \"Menos relevante\"),\n",
    "    (15046, \"Relevante\"),\n",
    "    (19306, \"Relevante\"),\n",
    "    (590, \"Menos relevante\"),\n",
    "    (1417, \"Menos relevante\"),\n",
    "    (16123, \"Relevante\"),\n",
    "    (10663, \"Relevante\"),\n",
    "    (18177, \"Menos relevante\"),\n",
    "    (11018, \"Relevante\"),\n",
    "    (11546, \"Relevante\"),\n",
    "    (14641, \"Relevante\"),\n",
    "    (13391, \"Relevante\"),\n",
    "    (6177, \"Não relevante\"),\n",
    "    (15972, \"Relevante\"),\n",
    "    (13693, \"Relevante\"),\n",
    "    (10311, \"Relevante\"),\n",
    "    (7097, \"Menos relevante\"),\n",
    "    (4786, \"Relevante\"),\n",
    "    (16565, \"Não relevante\"),\n",
    "    (5516, \"Não relevante\"),\n",
    "    (10729, \"Não relevante\"),\n",
    "    (9792, \"Não relevante\"),\n",
    "    (8552, \"Não relevante\"),\n",
    "    (5526, \"Não relevante\"),\n",
    "    (13913, \"Não relevante\"),\n",
    "    (17247, \"Não relevante\"),\n",
    "    (4367, \"Não relevante\"),\n",
    "    (11252, \"Não relevante\"),\n",
    "    (8121, \"Não relevante\"),\n",
    "    (8287, \"Não relevante\"),\n",
    "    (15625, \"Não relevante\"),\n",
    "    (8246, \"Não relevante\"),\n",
    "    (8314, \"Não relevante\"),\n",
    "    (12045, \"Não relevante\"),\n",
    "    (8901, \"Não relevante\"),\n",
    "    (1847, \"Não relevante\"),\n",
    "    (8596, \"Não relevante\"),\n",
    "    (10109, \"Não relevante\"),\n",
    "    (6469, \"Menos relevante\")\n",
    "]"
   ]
  },
  {
   "cell_type": "code",
   "execution_count": 45,
   "metadata": {},
   "outputs": [
    {
     "data": {
      "text/html": [
       "<div>\n",
       "<style scoped>\n",
       "    .dataframe tbody tr th:only-of-type {\n",
       "        vertical-align: middle;\n",
       "    }\n",
       "\n",
       "    .dataframe tbody tr th {\n",
       "        vertical-align: top;\n",
       "    }\n",
       "\n",
       "    .dataframe thead th {\n",
       "        text-align: right;\n",
       "    }\n",
       "</style>\n",
       "<table border=\"1\" class=\"dataframe\">\n",
       "  <thead>\n",
       "    <tr style=\"text-align: right;\">\n",
       "      <th></th>\n",
       "      <th>description</th>\n",
       "      <th>label</th>\n",
       "    </tr>\n",
       "  </thead>\n",
       "  <tbody>\n",
       "    <tr>\n",
       "      <th>10547</th>\n",
       "      <td>\"fer-pal infrastructure is proud to offer a ce...</td>\n",
       "      <td>Relevante</td>\n",
       "    </tr>\n",
       "    <tr>\n",
       "      <th>13014</th>\n",
       "      <td>\"vista credit corp is a residential equipment ...</td>\n",
       "      <td>Menos relevante</td>\n",
       "    </tr>\n",
       "    <tr>\n",
       "      <th>15046</th>\n",
       "      <td>purlucid treatment solutions is a cutting-edge...</td>\n",
       "      <td>Relevante</td>\n",
       "    </tr>\n",
       "    <tr>\n",
       "      <th>19306</th>\n",
       "      <td>\"h2o innovation is known for its state of the ...</td>\n",
       "      <td>Relevante</td>\n",
       "    </tr>\n",
       "    <tr>\n",
       "      <th>590</th>\n",
       "      <td>taphax is a real time water consumption tool t...</td>\n",
       "      <td>Menos relevante</td>\n",
       "    </tr>\n",
       "  </tbody>\n",
       "</table>\n",
       "</div>"
      ],
      "text/plain": [
       "                                             description            label\n",
       "10547  \"fer-pal infrastructure is proud to offer a ce...        Relevante\n",
       "13014  \"vista credit corp is a residential equipment ...  Menos relevante\n",
       "15046  purlucid treatment solutions is a cutting-edge...        Relevante\n",
       "19306  \"h2o innovation is known for its state of the ...        Relevante\n",
       "590    taphax is a real time water consumption tool t...  Menos relevante"
      ]
     },
     "execution_count": 45,
     "metadata": {},
     "output_type": "execute_result"
    }
   ],
   "source": [
    "# Salvar rótulos\n",
    "labels_dict = dict(suggested_labels)\n",
    "df_selected['label'] = df_selected.index.map(labels_dict)\n",
    "df_selected.head()"
   ]
  },
  {
   "cell_type": "code",
   "execution_count": 46,
   "metadata": {},
   "outputs": [],
   "source": [
    "# Criando um dataframe com todos os dados\n",
    "df_final = df.merge(df_selected[['label']], left_index=True, right_index=True, how='inner')\n",
    "\n",
    "# Restringir tfidf_matrix aos registros rotulados\n",
    "tfidf_matrix_restrita = tfidf_matrix[df_final.index]"
   ]
  },
  {
   "cell_type": "code",
   "execution_count": 47,
   "metadata": {},
   "outputs": [
    {
     "name": "stdout",
     "output_type": "stream",
     "text": [
      "<class 'pandas.core.frame.DataFrame'>\n",
      "Index: 40 entries, 590 to 19306\n",
      "Data columns (total 14 columns):\n",
      " #   Column                     Non-Null Count  Dtype \n",
      "---  ------                     --------------  ----- \n",
      " 0   name                       40 non-null     object\n",
      " 1   description                40 non-null     object\n",
      " 2   employees                  40 non-null     object\n",
      " 3   total_funding              40 non-null     object\n",
      " 4   city                       40 non-null     object\n",
      " 5   subcountry                 40 non-null     object\n",
      " 6   lat                        40 non-null     object\n",
      " 7   lng                        40 non-null     object\n",
      " 8   clean_description          40 non-null     object\n",
      " 9   original_water_term_count  40 non-null     int64 \n",
      " 10  altered_water_term_count   40 non-null     int64 \n",
      " 11  topic                      40 non-null     int64 \n",
      " 12  extended_water_term_count  40 non-null     int64 \n",
      " 13  label                      40 non-null     object\n",
      "dtypes: int64(4), object(10)\n",
      "memory usage: 4.7+ KB\n"
     ]
    }
   ],
   "source": [
    "df_final.info()"
   ]
  },
  {
   "cell_type": "code",
   "execution_count": 50,
   "metadata": {},
   "outputs": [
    {
     "data": {
      "text/plain": [
       "['/media/pabloernesto/Seagate Expansion Drive/Work/Projects/Desafios/FirstDecision/Prospect-Canadian-Water-Companies/Data/tfidf_matrix_restrita.pkl']"
      ]
     },
     "execution_count": 50,
     "metadata": {},
     "output_type": "execute_result"
    }
   ],
   "source": [
    "# salvar os registros selecionados\n",
    "df_selected.to_parquet(ROOT_DIR / SOURCE_SUBDIR /'Selected_Data.parquet')\n",
    "\n",
    "\n",
    "# Salvar os registros rotulados, deve conter os indices originais\n",
    "df_final.to_parquet(ROOT_DIR / SOURCE_SUBDIR /'Labeled_Data.parquet')\n",
    "\n",
    "# Salvando o vetorizador alinhado com os dados selecionados\n",
    "joblib.dump(tfidf_matrix_restrita, ROOT_DIR / SOURCE_SUBDIR / 'tfidf_matrix_restrita.pkl')"
   ]
  }
 ],
 "metadata": {
  "kernelspec": {
   "display_name": "firstenv",
   "language": "python",
   "name": "python3"
  },
  "language_info": {
   "codemirror_mode": {
    "name": "ipython",
    "version": 3
   },
   "file_extension": ".py",
   "mimetype": "text/x-python",
   "name": "python",
   "nbconvert_exporter": "python",
   "pygments_lexer": "ipython3",
   "version": "3.10.13"
  }
 },
 "nbformat": 4,
 "nbformat_minor": 2
}
